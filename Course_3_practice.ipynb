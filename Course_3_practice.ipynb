{
 "cells": [
  {
   "cell_type": "code",
   "execution_count": null,
   "metadata": {},
   "outputs": [],
   "source": []
  },
  {
   "cell_type": "code",
   "execution_count": null,
   "metadata": {},
   "outputs": [],
   "source": [
    "#  ЧИСЛО ФИБОНАЧИ НА ПОЗИЦИИ 'N'\n",
    "\n",
    "def fib(n):\n",
    "    f1, f2 = 1, 1\n",
    "    if n == 1:\n",
    "        fib = 1\n",
    "    elif n == 2: \n",
    "        fib = 1\n",
    "   \n",
    "    elif n > 2:\n",
    "        for _ in range(2, n): \n",
    "            fib = f2 + f1\n",
    "            f1 = f2\n",
    "            f2 = fib\n",
    "    return fib\n",
    "\n",
    "def main():\n",
    "    n = int(input())\n",
    "    print(fib(n))\n",
    "\n",
    "    ''' \n",
    "        prev, cur = 0, 1\n",
    "\n",
    "    for i in range(1, num):\n",
    "        prev, cur = cur, prev + cur\n",
    "\n",
    "    return cur\n",
    "    '''\n",
    "\n",
    "if __name__ == \"__main__\":\n",
    "    main()"
   ]
  },
  {
   "cell_type": "code",
   "execution_count": null,
   "metadata": {},
   "outputs": [],
   "source": [
    "def fib_digit(n):\n",
    "    prev, cur = 0, 1\n",
    "    for i in range(1, n):\n",
    "        prev, cur = cur % 10, (prev + cur) % 10 \n",
    "\n",
    "    return cur\n",
    "\n",
    "def main():\n",
    "    n = int(input())\n",
    "    print(fib_digit(n))\n",
    "\n",
    "if __name__ == \"__main__\":\n",
    "    main()"
   ]
  },
  {
   "cell_type": "code",
   "execution_count": null,
   "metadata": {},
   "outputs": [],
   "source": [
    "objects = [1, 2, 1, 5, True, False, True, 'false', [], [1,2], [1,2]]\n",
    "ans = 0\n",
    "uniq = set()\n",
    "for obj in objects: # доступная переменная objects\n",
    "    uniq.add(id(obj))\n",
    "    ans += 1\n",
    "\n",
    "print(len(uniq))"
   ]
  },
  {
   "cell_type": "code",
   "execution_count": null,
   "metadata": {},
   "outputs": [],
   "source": [
    "def closest_mod_5(x):\n",
    "    if x % 5 == 0:\n",
    "        return x\n",
    "    else: \n",
    "        x += 1\n",
    "        while x % 5 != 0: \n",
    "            x += 1\n",
    "    return x\n",
    "\n",
    "x = 9\n",
    "print(x)\n"
   ]
  },
  {
   "cell_type": "code",
   "execution_count": null,
   "metadata": {},
   "outputs": [],
   "source": [
    "class MoneyBox():\n",
    "    def __init__(self, capacity):\n",
    "        self.capacity = capacity\n",
    "\n",
    "    def can_add(self, v):\n",
    "        self.v = v\n",
    "        return True if self.v <= self.capacity else False\n",
    "\n",
    "    def add(self, v):\n",
    "        self.capacity -= v\n",
    "\n",
    "x = MoneyBox(10)\n",
    "x.add(5)\n",
    "x.add(4)\n",
    "print(x.can_add(2))"
   ]
  },
  {
   "cell_type": "code",
   "execution_count": null,
   "metadata": {},
   "outputs": [],
   "source": [
    "\"\"\" БУФЕР ОБМЕНА С СУМОЙ НА 5 \"\"\"\n",
    "\n",
    "\n",
    "class Buffer:\n",
    "    def __init__(self):\n",
    "        self.list = []\n",
    "\n",
    "    def add(self, *a):\n",
    "        # добавить следующую часть последовательности\n",
    "        self.a = a\n",
    "        self.list += a\n",
    "        while len(self.list) >= 5: \n",
    "            print(sum(self.list[:5]))\n",
    "            del self.list[:5]\n",
    "\n",
    "    def get_current_part(self):\n",
    "        return self.list\n",
    "        # вернуть сохраненные в текущий момент элементы последовательности в порядке, в котором они были добавлены\n",
    "    \n",
    "buf = Buffer()\n",
    "buf.add(1, 2, 3)\n",
    "buf.get_current_part() # вернуть [1, 2, 3]\n",
    "buf.add(4, 5, 6) # print(15) – вывод суммы первой пятерки элементов\n",
    "buf.get_current_part() # вернуть [6]\n",
    "buf.add(7, 8, 9, 10) # print(40) – вывод суммы второй пятерки элементов\n",
    "buf.get_current_part() # вернуть []\n",
    "buf.add(1, 1, 1, 1, 1, 1, 1, 1, 1, 1, 1) # print(5), print(5) – вывод сумм третьей и четвертой пятерки\n",
    "buf.get_current_part() # вернуть [1]"
   ]
  },
  {
   "cell_type": "code",
   "execution_count": null,
   "metadata": {},
   "outputs": [],
   "source": [
    "''' СНЯТЬ ПОСЛЕДНИЕ 2 элемента со стека и вернуть их после обработки '''\n",
    "\n",
    "class ExtendedStack(list):\n",
    "    def sum(self):\n",
    "        self.append(self.pop() + self.pop())\n",
    "\n",
    "    def sub(self):\n",
    "        self.append(self.pop() - self.pop())\n",
    "\n",
    "    def mul(self):\n",
    "        self.append(self.pop() * self.pop())\n",
    "\n",
    "    def div(self):\n",
    "        self.append(self.pop() // self.pop())\n",
    "\n",
    "ex_stack = ExtendedStack([1, 2, 3, 4, -3, 3, 5, 10])\n",
    "ex_stack.div()\n",
    "assert ex_stack.pop() == 2\n",
    "ex_stack.sub()\n",
    "assert ex_stack.pop() == 6\n",
    "ex_stack.sum()\n",
    "assert ex_stack.pop() == 7\n",
    "ex_stack.mul()\n",
    "assert ex_stack.pop() == 2\n",
    "assert len(ex_stack) == 0"
   ]
  },
  {
   "cell_type": "code",
   "execution_count": 1,
   "metadata": {},
   "outputs": [
    {
     "name": "stdout",
     "output_type": "stream",
     "text": [
      "Sun Jun 25 17:23:09 2023: Hello!\n",
      "Sun Jun 25 17:23:09 2023: Good bye!\n",
      "['Hello!', 'Good bye!']\n"
     ]
    }
   ],
   "source": [
    "# НАСЛЕДОВАПНИЕ КЛАССОВ \n",
    "\n",
    "import time\n",
    "\n",
    "class Loggable:\n",
    "    def log(self, msg):\n",
    "        print(str(time.ctime()) + \": \" + str(msg))\n",
    "\n",
    "class LoggableList(list, Loggable):\n",
    "    def append(self, item): \n",
    "        super().append(item)\n",
    "        self.log(item)\n",
    "\n",
    "z = LoggableList()\n",
    "z.append('Hello!')\n",
    "z.append('Good bye!') \n",
    "print(z)"
   ]
  },
  {
   "cell_type": "code",
   "execution_count": 47,
   "metadata": {},
   "outputs": [
    {
     "name": "stdout",
     "output_type": "stream",
     "text": [
      "238\n"
     ]
    }
   ],
   "source": [
    "# ДНЕЙ ОСТАЛОСЬ ДО ДНЯ РОЖДЕНИЯ\n",
    "\n",
    "from datetime import date, timedelta\n",
    "a = (2014, 8, 27)\n",
    "b = (2014, 1, 1)\n",
    "\n",
    "x = date(*a)\n",
    "y = date(*b)\n",
    "days_left = (x - y).days\n",
    "\n",
    "print(days_left)\n",
    "\n",
    "# abs((date(*a) - date(*b)).days) "
   ]
  },
  {
   "cell_type": "code",
   "execution_count": 6,
   "metadata": {},
   "outputs": [
    {
     "name": "stdout",
     "output_type": "stream",
     "text": [
      "['w', 'e', 'l', 'c', 'o', 'm', 'e', ' ', 't', 'o', ' ', 'a', ' ', 'g', 'a', 'm', 'e']\n",
      "['e', 'm', 'o', 'c', 'l', 'e', 'w', ' ', 'o', 't', ' ', 'a', ' ', 'e', 'm', 'a', 'g']\n",
      "emoclew ot a emag\n"
     ]
    }
   ],
   "source": [
    "# РЕВЕРС СЛОВ С СОХРАНЕНИЕМ ПРОБЕЛОВ\n",
    "\n",
    "text = 'welcome to a game'\n",
    "lst = text.split()\n",
    "lst1 = list(text)\n",
    "revers = []\n",
    "\n",
    "for c in lst: \n",
    "    revers.append(c[::-1])\n",
    "\n",
    "s = ''.join(revers)\n",
    "lst2 = list(s)\n",
    "\n",
    "for i in range(len(lst1)): \n",
    "    if lst1[i] == ' ': \n",
    "        lst2.insert(i, ' ')\n",
    "\n",
    "r = ''.join(lst2)\n",
    "\n",
    "print(lst1)\n",
    "print(lst2)\n",
    "print(r)"
   ]
  },
  {
   "cell_type": "code",
   "execution_count": 4,
   "metadata": {},
   "outputs": [
    {
     "name": "stdout",
     "output_type": "stream",
     "text": [
      "[{'name': 'water', 'price': 999}, {'name': 'bread', 'price': 190}]\n"
     ]
    }
   ],
   "source": [
    "# СОРТИРОВКА СЛОВАРЯ!!!!!!!!!!! И ВОЗВРАТ БОЛЬШИХ ИЗ ЗНАЧЕНИЙ\n",
    "\n",
    "data = [{\"name\": \"bread\", \"price\": 190},\n",
    "    {\"name\": \"wine\", \"price\": 13},\n",
    "    {\"name\": \"meat\", \"price\": 85},\n",
    "    {\"name\": \"water\", \"price\": 999}]\n",
    "limit = 2\n",
    "lst_price = []\n",
    "lst_name = []\n",
    "sorted_dict = sorted(data, key=lambda x: x['price'], reverse=True)\n",
    "\n",
    "print(sorted_dict[:limit])"
   ]
  },
  {
   "cell_type": "code",
   "execution_count": 7,
   "metadata": {},
   "outputs": [
    {
     "data": {
      "text/plain": [
       "5"
      ]
     },
     "execution_count": 7,
     "metadata": {},
     "output_type": "execute_result"
    }
   ],
   "source": [
    "# ЛЯМБДА ФУНКЦИЯ!\n",
    "\n",
    "foo = lambda x: x * x\n",
    "foo(10)\n",
    "\n",
    "adder_lambda = lambda parameter1,parameter2: parameter1+parameter2 \n",
    "\n",
    "def adder_regular(parameter1, parameter2): \n",
    "    return parameter1+parameter2 \n",
    "\n",
    "\n",
    "x = lambda x: x+2\n",
    "x(3)"
   ]
  },
  {
   "cell_type": "code",
   "execution_count": 5,
   "metadata": {},
   "outputs": [
    {
     "name": "stdout",
     "output_type": "stream",
     "text": [
      "3\n",
      "No hi\n"
     ]
    }
   ],
   "source": [
    "# ВЫДЕЛИТЬ НУЖНЫЙ ФРАГМЕНТ ТЕКСТА МЕЖДУ МАРКЕРАМИ \n",
    "\n",
    "text = 'No hi'\n",
    "begin = '[b]'\n",
    "end = '[/b]'\n",
    "\n",
    "if text.find(begin) < text.find(end) and text.find(begin) != -1: \n",
    "    print(1)\n",
    "    print(text[text.find(begin) + len(begin):text.find(end)])\n",
    "\n",
    "if text.find(begin) > text.find(end) and text.find(end) != -1: \n",
    "    print(2)\n",
    "    print('') \n",
    "\n",
    "if text.find(begin) == -1 and text.find(end) == -1: \n",
    "    print(3)\n",
    "    print(text)\n",
    "\n",
    "elif text.find(begin) == -1: \n",
    "    print(4)\n",
    "    print(text[:text.find(end)])\n",
    "\n",
    "elif text.find(end) == -1: \n",
    "    print(5)\n",
    "    print(text[text.find(begin) + len(begin):])"
   ]
  },
  {
   "cell_type": "code",
   "execution_count": 21,
   "metadata": {},
   "outputs": [
    {
     "name": "stdout",
     "output_type": "stream",
     "text": [
      "{'h': 1, 'e': 1, 'l': 2, 'o': 1}\n"
     ]
    }
   ],
   "source": [
    "# ПОДСЧЕТ БУКВ В СТРОКЕ\n",
    "\n",
    "text = 'hello'\n",
    "x = {}\n",
    "\n",
    "for i in range(len(text)): \n",
    "    x.update([(text[i], text.count(text[i]))])\n",
    "\n",
    "print(x)"
   ]
  },
  {
   "cell_type": "code",
   "execution_count": 31,
   "metadata": {},
   "outputs": [
    {
     "name": "stdout",
     "output_type": "stream",
     "text": [
      "['when', 'i', 'was', 'one', 'i', 'had', 'just', 'begun', 'when', 'i', 'was', 'two', 'i', 'was', 'nearly', 'new']\n",
      "{'i': 4, 'was': 3, 'three': 0, 'near': 0}\n"
     ]
    }
   ],
   "source": [
    "# ПОДСЧЕТ СЛОВ В ТЕКСТЕ \n",
    "\n",
    "text = '''\n",
    "When I was One\n",
    "I had just begun\n",
    "When I was Two\n",
    "I was nearly new'''\n",
    "words = ['i', 'was', 'three', 'near']\n",
    "text_l = text.lower().split()\n",
    "final = {}\n",
    "\n",
    "for c in words: \n",
    "    if c in text_l: \n",
    "        final.update([(c, text_l.count(c))])\n",
    "    else: \n",
    "        final.update([(c, 0)])\n",
    "\n",
    "\n",
    "print(final)"
   ]
  },
  {
   "cell_type": "code",
   "execution_count": null,
   "metadata": {},
   "outputs": [],
   "source": [
    "# СОРТИРОВКА СПИСКА ПО КОЛ-ВУ ПОВТОРОВ ЕЛЕМЕНТА \n",
    "\n",
    "items = [4,6,2,2,2,6,4,4,4]\n",
    "count  = []\n",
    "dic = {}\n",
    "sort_dic = {}\n",
    "final = []\n",
    "\n",
    "for c in items: \n",
    "    count.append(items.count(c))\n",
    "print(count)\n",
    "\n",
    "for i in range(len(count)): \n",
    "    dic.update([(items[i], items.count(items[i]))])\n",
    "print(dic)\n",
    "\n",
    "sort_dic = sorted(dic.items(), key=lambda x: x[1], reverse=True)\n",
    "dic_fin = {k: v for k, v in sort_dic}\n",
    "print(dic_fin)\n",
    "\n",
    "for c in dic_fin.items(): \n",
    "    print(c)\n",
    "    for i in range(c[1]): \n",
    "        final.append((c[0]))\n",
    "\n",
    "print((final))\n",
    "\n",
    "\"\"\" \n",
    "from collections import Counter\n",
    "\n",
    "def frequency_sort(items):\n",
    "    items = [n for n,count in Counter(items).most_common() for i in range(count)]\n",
    "    return items\n",
    "\"\"\""
   ]
  },
  {
   "cell_type": "code",
   "execution_count": 15,
   "metadata": {},
   "outputs": [
    {
     "name": "stdout",
     "output_type": "stream",
     "text": [
      "1\n"
     ]
    }
   ],
   "source": [
    "# БЕЗОПАСНЫЕ ПЕШКИ В ШАХМАТАХ\n",
    "\n",
    "pawns = {\"b4\", \"c4\", \"d4\", \"e4\", \"f4\", \"g4\", \"e5\"}  # 1\n",
    "count = 0\n",
    "\n",
    "for pawn in pawns: \n",
    "    let_ord = ord(pawn[0])\n",
    "    num_ord = ord(pawn[1])\n",
    "    if (str(chr(let_ord + 1)) + str(chr(num_ord - 1))) in pawns or (str(chr(let_ord - 1)) + str(chr(num_ord - 1))) in pawns :\n",
    "        count += 1\n",
    "\n",
    "print(count)\n"
   ]
  },
  {
   "cell_type": "code",
   "execution_count": 43,
   "metadata": {},
   "outputs": [
    {
     "name": "stdout",
     "output_type": "stream",
     "text": [
      "9\n"
     ]
    }
   ],
   "source": [
    "# СЛЕДЮЩИЙ ИДЕАЛЬНЫЙ КВАДРАТ\n",
    "\n",
    "sq = 4\n",
    "x = sq + 1\n",
    "\n",
    "if int(sq ** 0.5) ** 2 == sq: \n",
    "    while int(x ** 0.5) ** 2 != x: \n",
    "        x += 1\n",
    "    print(x)\n",
    "\n",
    "else: \n",
    "    print(-1)"
   ]
  },
  {
   "cell_type": "code",
   "execution_count": 6,
   "metadata": {},
   "outputs": [
    {
     "name": "stdout",
     "output_type": "stream",
     "text": [
      "1 January 2000 year 1 hour 7 minutes\n"
     ]
    }
   ],
   "source": [
    "# ВРЕМЯ ИЗ ЦИФР В ТЕКСТ\n",
    "\n",
    "time = '01.01.2000 01:07'\n",
    "input_lst = time.split()\n",
    "input_date = input_lst[0].split('.')\n",
    "input_time = input_lst[1].split(':')\n",
    "months = ['January', 'February', 'March', \n",
    "'April', 'May', 'June', 'July', \n",
    "'August', 'September', 'October', \n",
    "'November', 'December']\n",
    "new_date = []\n",
    "new_time = []\n",
    "\n",
    "if input_date[0][0] == '0': \n",
    "    new_date.append(input_date[0][1])\n",
    "else: \n",
    "    new_date.append(input_date[0])\n",
    "\n",
    "new_date.append(months[int(input_date[1]) - 1])\n",
    "new_date.append(input_date[2])\n",
    "new_date.append('year')\n",
    "\n",
    "if input_time[0][0] == '0': \n",
    "    new_time.append(input_time[0][1])\n",
    "else: \n",
    "    new_time.append(input_time[0])\n",
    "\n",
    "if new_time[0] == '1': \n",
    "    new_time.append('hour')\n",
    "else: \n",
    "    new_time.append('hours')\n",
    "\n",
    "if input_time[1][0] == '0': \n",
    "    new_time.append(input_time[1][1])\n",
    "else: \n",
    "    new_time.append(input_time[1])\n",
    "\n",
    "if new_time[2] == '1': \n",
    "    new_time.append('minute')\n",
    "else: \n",
    "    new_time.append('minutes')\n",
    "\n",
    "print(' '.join(new_date) + ' ' + ' '.join(new_time))"
   ]
  },
  {
   "cell_type": "code",
   "execution_count": 20,
   "metadata": {},
   "outputs": [
    {
     "name": "stdout",
     "output_type": "stream",
     "text": [
      "['i', 't', 'w', 'a', 's', 'a', 'g', 'o', 'o', 'd', 'd', 'a', 'y']\n",
      "[2, 3, 1, 4, 3]\n",
      "It was a good day\n"
     ]
    }
   ],
   "source": [
    "# АЗБУКА МОРЗЕ РАСШИФРОВКА!!!!!!!!!!!\n",
    "\n",
    "MORSE = {\".-\": \"a\",\n",
    "    \"-...\": \"b\",\n",
    "    \"-.-.\": \"c\",\n",
    "    \"-..\": \"d\",\n",
    "    \".\": \"e\",\n",
    "    \"..-.\": \"f\",\n",
    "    \"--.\": \"g\",\n",
    "    \"....\": \"h\",\n",
    "    \"..\": \"i\",\n",
    "    \".---\": \"j\",\n",
    "    \"-.-\": \"k\",\n",
    "    \".-..\": \"l\",\n",
    "    \"--\": \"m\",\n",
    "    \"-.\": \"n\",\n",
    "    \"---\": \"o\",\n",
    "    \".--.\": \"p\",\n",
    "    \"--.-\": \"q\",\n",
    "    \".-.\": \"r\",\n",
    "    \"...\": \"s\",\n",
    "    \"-\": \"t\",\n",
    "    \"..-\": \"u\",\n",
    "    \"...-\": \"v\",\n",
    "    \".--\": \"w\",\n",
    "    \"-..-\": \"x\",\n",
    "    \"-.--\": \"y\",\n",
    "    \"--..\": \"z\",\n",
    "    \"-----\": \"0\",\n",
    "    \".----\": \"1\",\n",
    "    \"..---\": \"2\",\n",
    "    \"...--\": \"3\",\n",
    "    \"....-\": \"4\",\n",
    "    \".....\": \"5\",\n",
    "    \"-....\": \"6\",\n",
    "    \"--...\": \"7\",\n",
    "    \"---..\": \"8\",\n",
    "    \"----.\": \"9\",\n",
    "    \" \": \"\"\n",
    "}\n",
    "code = \".. -   .-- .- ...   .-   --. --- --- -..   -.. .- -.--\" \n",
    "code_list = code.split() \n",
    "space_list = code.split('   ') \n",
    "decode = []\n",
    "space_index = []\n",
    "\n",
    "for i in range(len(code_list)): \n",
    "    decode.append(MORSE[code_list[i]])\n",
    "\n",
    "for i in range(len(space_list)): \n",
    "    space_index.append(len(space_list[i].split()))\n",
    "\n",
    "print(decode)\n",
    "print(space_index)\n",
    "\n",
    "x = 0\n",
    "for i in space_index:\n",
    "    x += i\n",
    "    decode.insert(x, ' ')\n",
    "    x += 1\n",
    "\n",
    "decode = ''.join(decode).capitalize().strip()\n",
    "\n",
    "print(decode)"
   ]
  },
  {
   "cell_type": "code",
   "execution_count": 43,
   "metadata": {},
   "outputs": [
    {
     "name": "stdout",
     "output_type": "stream",
     "text": [
      "False\n"
     ]
    }
   ],
   "source": [
    "#  СРАВНЕНИЕ ЭЛЕМЕНТОВ В СПИСКЕ\n",
    "\n",
    "elements = [1, 1, 2, 1]\n",
    "flag = True\n",
    "\n",
    "for i in range(len(elements) - 1): \n",
    "    if elements[i] == elements[i + 1]: \n",
    "        flag = True\n",
    "    else: \n",
    "        flag = False\n",
    "        break\n",
    "\n",
    "print(flag)"
   ]
  },
  {
   "cell_type": "code",
   "execution_count": 84,
   "metadata": {},
   "outputs": [
    {
     "name": "stdout",
     "output_type": "stream",
     "text": [
      "['.aa', '1.bat', '2.bat', '1.cad']\n"
     ]
    }
   ],
   "source": [
    "####  СОРТИРОВКА ФАЙЛОВ ПО РАЗРЕШЕНИЮ \n",
    "\n",
    "files = ['1.cad', '2.bat', '.aa', '1.bat']\n",
    "files.sort(key=lambda x: x[0])\n",
    "list2 = []\n",
    "\n",
    "for i in files:\n",
    "    if i.count('.') == 1: \n",
    "        x = []\n",
    "        x.append(i.split('.')[0])\n",
    "        x.append(i.split('.')[1])\n",
    "        list2.append(x)\n",
    "    else: \n",
    "        x = []\n",
    "        x.append(i[:i.rfind('.')])\n",
    "        x.append(i[i.rfind('.')+1:])\n",
    "        list2.append(x)\n",
    "\n",
    "list2.sort(key=lambda x: x[1])\n",
    "\n",
    "empty_name = []\n",
    "\n",
    "for c in list2: \n",
    "    if c[0] == '': \n",
    "        list2.remove(c)\n",
    "        empty_name.append(c)\n",
    "\n",
    "empty_name.sort(key=lambda x: x[1])\n",
    "\n",
    "final = []\n",
    "\n",
    "for c in empty_name: \n",
    "    elem = str(c[0] + '.' + c[1])\n",
    "    final.append(elem)\n",
    "\n",
    "for c in list2: \n",
    "    elem = str(c[0] + '.' + c[1])\n",
    "    final.append(elem)\n",
    "\n",
    "print(final)"
   ]
  },
  {
   "cell_type": "code",
   "execution_count": 109,
   "metadata": {},
   "outputs": [
    {
     "name": "stdout",
     "output_type": "stream",
     "text": [
      "[1, 2, 3, 4, 5]\n",
      "120\n"
     ]
    }
   ],
   "source": [
    "#  ПРОИЗВЕДЕНИЕ РЯДА ЧИСЕЛ (БЕЗ НУЛЕЙ)\n",
    "\n",
    "number = 123405\n",
    "lst = [int(i) for i in str(number) if i != '0']\n",
    "result = 1\n",
    "\n",
    "for i in lst: \n",
    "    result *= i\n",
    "\n",
    "print(result)"
   ]
  },
  {
   "cell_type": "code",
   "execution_count": 150,
   "metadata": {},
   "outputs": [
    {
     "name": "stdout",
     "output_type": "stream",
     "text": [
      "False\n"
     ]
    }
   ],
   "source": [
    "# ПРОВЕРКА ПАРОЛЯ НА УСЛОВИЯ\n",
    "\n",
    "password = \"aaaaaaabbaaaaaaaab\"\n",
    "flag1 = False\n",
    "flag2 = False\n",
    "flag3 = True\n",
    "    \n",
    "for c in password:\n",
    "    if c.isdigit():\n",
    "        flag1 = True\n",
    "        break\n",
    "    \n",
    "for c in password:\n",
    "    if c.isalpha():\n",
    "        flag2 = True\n",
    "        break\n",
    "if len(password) > 9: \n",
    "    flag1, flag2 = True, True\n",
    "    \n",
    "if 'password' in password.lower(): \n",
    "    flag3 = False\n",
    "    \n",
    "uniq = len(set(password)) >= 3\n",
    "            \n",
    "print(len(password) > 6 and flag2 and flag1 and flag3 and count >= 3 and uniq) "
   ]
  },
  {
   "cell_type": "code",
   "execution_count": 167,
   "metadata": {},
   "outputs": [
    {
     "name": "stdout",
     "output_type": "stream",
     "text": [
      "15.0\n",
      "420\n"
     ]
    }
   ],
   "source": [
    "##  УГОЛ СОЛНЦА ПО ВРЕМЕНИ\n",
    "\n",
    "time = '7:00'\n",
    "time_lst = time.split(':')\n",
    "minutes = int(time_lst[0]) * 60 + int(time_lst[1])\n",
    "\n",
    "if minutes < 360 or minutes > 1080: \n",
    "    print(\"I don't see the sun!\")\n",
    "else: \n",
    "    print(0.25 * (minutes - 360))\n",
    "\n",
    "print(minutes)"
   ]
  },
  {
   "cell_type": "code",
   "execution_count": 1,
   "metadata": {},
   "outputs": [
    {
     "name": "stdout",
     "output_type": "stream",
     "text": [
      "False\n"
     ]
    }
   ],
   "source": [
    "# ПОИСК ВХОЖДЕНИЯ СЛОВ В СТОРКУ\n",
    "\n",
    "text = 'hi world im here'.split()\n",
    "words = ['wo', 'rld']\n",
    "\n",
    "for word in words: \n",
    "    if word in text: \n",
    "        flag = True\n",
    "    else: \n",
    "        flag = False\n",
    "        break\n",
    "\n",
    "if len(words) > 1 and flag: \n",
    "    for i in range(len(words) - 1): \n",
    "        if text.index(words[i]) < text.index(words[i + 1]):\n",
    "            flag = True\n",
    "        else: \n",
    "            flag = False\n",
    "            break\n",
    "\n",
    "    if words[0] == words[1]: \n",
    "        flag = False\n",
    "\n",
    "print(flag)\n"
   ]
  },
  {
   "cell_type": "code",
   "execution_count": 5,
   "metadata": {},
   "outputs": [
    {
     "name": "stdout",
     "output_type": "stream",
     "text": [
      "3610.0\n"
     ]
    }
   ],
   "source": [
    "### РАЗНИЦА В ДВУХ ДАТАХ ПОСЕКУНДНО\n",
    "\n",
    "from datetime import datetime\n",
    "\n",
    "els = [\n",
    "    datetime(2015, 1, 12, 10, 0, 0),\n",
    "    datetime(2015, 1, 12, 10, 10, 10)\n",
    "]\n",
    "\n",
    "start_watching = datetime(2015, 1, 12, 9, 10, 0)  # ТОЧКА НАЧАЛА ПОДСЧЕТА\n",
    "\n",
    "duration = 0\n",
    "\n",
    "if start_watching == None:\n",
    "    while len(els) >= 2: \n",
    "        duration += (els[1] - els[0]).total_seconds()\n",
    "        els.pop(0)\n",
    "        els.pop(0)\n",
    "\n",
    "if start_watching != None and len(els) == 2:\n",
    "   duration += (els[1] - start_watching).total_seconds()\n",
    "\n",
    "\n",
    "if start_watching != None and len(els) == 4:\n",
    "    if els[0] <= start_watching <= els[1]: \n",
    "        duration += (els[1] - start_watching).total_seconds()\n",
    "        duration += (els[3] - els[2]).total_seconds()\n",
    "    if els[2] <= start_watching <= els[3]:\n",
    "        duration += (els[3] - start_watching).total_seconds()\n",
    "\n",
    "\n",
    "if start_watching != None and len(els) == 6:\n",
    "    if els[0] <= start_watching <= els[1]: \n",
    "        duration += (els[1] - start_watching).total_seconds()\n",
    "        duration += (els[3] - els[2]).total_seconds()\n",
    "    if els[2] <= start_watching <= els[3]:\n",
    "        duration += (els[3] - start_watching).total_seconds()\n",
    "        duration += (els[5] - els[4]).total_seconds()\n",
    "    if els[4] <= start_watching <= els[5]:\n",
    "        duration += (els[5] - start_watching).total_seconds()\n",
    "\n",
    "\n",
    "\n",
    "print(duration)"
   ]
  },
  {
   "cell_type": "code",
   "execution_count": null,
   "metadata": {},
   "outputs": [],
   "source": [
    "### РАЗНИЦА В ДВУХ ДАТАХ ПОСЕКУНДНО\n",
    "\n",
    "from datetime import datetime\n",
    "\n",
    "els = [\n",
    "    datetime(2015, 1, 12, 10, 0, 0),\n",
    "    datetime(2015, 1, 12, 10, 10, 10),\n",
    "    datetime(2015, 1, 12, 11, 0, 0), # 610\n",
    "]\n",
    "\n",
    "start_watching = datetime(2015, 1, 12, 9, 10, 0)  # ТОЧКА НАЧАЛА ПОДСЧЕТА\n",
    "end_watching = datetime(2015, 1, 12, 10, 20, 20)\n",
    "\n",
    "duration = 0\n",
    "\n",
    "if start_watching == None and end_watching == None:\n",
    "    while len(els) >= 2: \n",
    "        duration += (els[1] - els[0]).total_seconds()\n",
    "        els.pop(0)\n",
    "        els.pop(0)\n",
    "\n",
    "\n",
    "if start_watching != None and len(els) == 2:\n",
    "   duration += (els[1] - start_watching).total_seconds()\n",
    "\n",
    "\n",
    "if start_watching != None and len(els) == 4:\n",
    "    if els[0] <= start_watching <= els[1]: \n",
    "        duration += (els[1] - start_watching).total_seconds()\n",
    "        duration += (els[3] - els[2]).total_seconds()\n",
    "    if els[2] <= start_watching <= els[3]:\n",
    "        duration += (els[3] - start_watching).total_seconds()\n",
    "\n",
    "\n",
    "if start_watching != None and len(els) == 6:\n",
    "    if els[0] <= start_watching <= els[1]: \n",
    "        duration += (els[1] - start_watching).total_seconds()\n",
    "        duration += (els[3] - els[2]).total_seconds()\n",
    "    if els[2] <= start_watching <= els[3]:\n",
    "        duration += (els[3] - start_watching).total_seconds()\n",
    "        duration += (els[5] - els[4]).total_seconds()\n",
    "    if els[4] <= start_watching <= els[5]:\n",
    "        duration += (els[5] - start_watching).total_seconds()\n",
    "\n",
    "\n",
    "\n",
    "print(duration)"
   ]
  }
 ],
 "metadata": {
  "interpreter": {
   "hash": "994e14d75182eddc00b062fa83e41e598a01c595190f4ac33c7ab2d78463f20b"
  },
  "kernelspec": {
   "display_name": "Python 3.9.6 64-bit",
   "name": "python3"
  },
  "language_info": {
   "codemirror_mode": {
    "name": "ipython",
    "version": 3
   },
   "file_extension": ".py",
   "mimetype": "text/x-python",
   "name": "python",
   "nbconvert_exporter": "python",
   "pygments_lexer": "ipython3",
   "version": "3.9.6"
  },
  "orig_nbformat": 4
 },
 "nbformat": 4,
 "nbformat_minor": 2
}
