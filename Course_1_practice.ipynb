{
 "cells": [
  {
   "cell_type": "code",
   "execution_count": 2,
   "metadata": {},
   "outputs": [
    {
     "name": "stdout",
     "output_type": "stream",
     "text": [
      "Наибольшее число равно 1\n"
     ]
    }
   ],
   "source": [
    "largest = -1\n",
    "for i in range(6): \n",
    "    num = int(input())    \n",
    "    if num > largest:\n",
    "        largest = num\n",
    "print('Наибольшее число равно', largest)"
   ]
  },
  {
   "cell_type": "code",
   "execution_count": 8,
   "metadata": {},
   "outputs": [
    {
     "name": "stdout",
     "output_type": "stream",
     "text": [
      "21\n"
     ]
    }
   ],
   "source": [
    "n = int(input())\n",
    "total = 0\n",
    "\n",
    "for i in range(n): \n",
    "    num = int(input())\n",
    "    total = total + num\n",
    "print(total)"
   ]
  },
  {
   "cell_type": "code",
   "execution_count": null,
   "metadata": {},
   "outputs": [],
   "source": [
    "#На вход программе подается натуральное число nn, а затем nn различных натуральных чисел, каждое на отдельной строке. Напишите программу, которая выводит наибольшее и второе наибольшее число последовательности.\n",
    "\n",
    "n = int(input())\n",
    "a = 0\n",
    "b = 0\n",
    "\n",
    "for i in range(1, n + 1): \n",
    "    num = int(input())\n",
    "    if num > a:\n",
    "        b = a\n",
    "        a = num\n",
    "    else: \n",
    "        if num > b:\n",
    "            b = num\n",
    "\n",
    "print(a)\n",
    "print(b)"
   ]
  },
  {
   "cell_type": "code",
   "execution_count": null,
   "metadata": {},
   "outputs": [],
   "source": [
    "# Напишите программу, которая считывает последовательность из 10 целых чисел и определяет является ли каждое из них четным или нет.\n",
    "\n",
    "for i in range(1, 11):\n",
    "    a = int(input())\n",
    "    if a % 2 == 0: \n",
    "        counter += 1\n",
    "\n",
    "if counter == 10:\n",
    "    print(\"YES\")\n",
    "else: \n",
    "    print(\"NO\")"
   ]
  },
  {
   "cell_type": "code",
   "execution_count": 1,
   "metadata": {},
   "outputs": [
    {
     "name": "stdout",
     "output_type": "stream",
     "text": [
      "1 1 2 3 5 8 13 21 34 55 "
     ]
    }
   ],
   "source": [
    "n = int(input())\n",
    "fib, fib1, fib2 = 0, 1, 1\n",
    "\n",
    "for i in range(n): \n",
    "    if i < 2: \n",
    "        fib, fib1, fib2 = 1, 1, 1\n",
    "    if i >=2: \n",
    "        fib = fib1 + fib2\n",
    "        fib1 = fib2\n",
    "        fib2 = fib\n",
    "    print(fib, end=\" \")\n",
    "    \n",
    "#Последовательность Фибоначчи – это последовательность натуральных чисел, где каждое последующее число является суммой двух предыдущих: 1, 1, 2, 3, 5, 8, 13,  21, 34, 55, 89"
   ]
  },
  {
   "cell_type": "code",
   "execution_count": 3,
   "metadata": {},
   "outputs": [
    {
     "name": "stdout",
     "output_type": "stream",
     "text": [
      "Сумма чисел равна 14\n"
     ]
    }
   ],
   "source": [
    "# Часто при решении задач на цикл while, мы считываем данные, до тех пор пока пользователь не введет некоторое значение, которое называют стоп значением. Напишем программу, которая считывает числа и находит их сумму, до тех пор пока пользователь не введет слово stop:\n",
    "\n",
    "text = input()\n",
    "total = 0\n",
    "while text != 'stop':\n",
    "    num = int(text)\n",
    "    total += num\n",
    "    text = input()\n",
    "print('Сумма чисел равна', total)"
   ]
  },
  {
   "cell_type": "code",
   "execution_count": null,
   "metadata": {},
   "outputs": [],
   "source": [
    "n % 10  # получить последнюю цифру\n",
    "n // 10  # удалить последнюю цифру из числа"
   ]
  },
  {
   "cell_type": "code",
   "execution_count": null,
   "metadata": {},
   "outputs": [],
   "source": [
    "#BREAK\n",
    "\n",
    "result = 0\n",
    "for i in range(10):\n",
    "    num = int(input())\n",
    "    if num < 0:\n",
    "        break\n",
    "    result += num\n",
    "print(result)"
   ]
  },
  {
   "cell_type": "code",
   "execution_count": null,
   "metadata": {},
   "outputs": [],
   "source": [
    "#BREAK\n",
    "\n",
    "n = int(input())\n",
    "flag = False\n",
    "while n != 0:\n",
    "    last_digit = n % 10\n",
    "    if last_digit == 7:\n",
    "        flag = True\n",
    "        break        # прерываем цикл, так как число гарантированно содержит цифру 7\n",
    "    n //= 10\n",
    "\n",
    "if flag == True:\n",
    "    print('Число', n, 'содержит цифру 7')\n",
    "else:\n",
    "    print('Число', n, 'не содержит цифру 7')"
   ]
  },
  {
   "cell_type": "code",
   "execution_count": null,
   "metadata": {},
   "outputs": [],
   "source": [
    "#continue\n",
    "\n",
    "for i in range(1, 101):\n",
    "    if i == 7 or i == 17 or i == 29 or i == 78:\n",
    "        continue  # переходим на следующую итерацию\n",
    "    print(i)\n"
   ]
  },
  {
   "cell_type": "code",
   "execution_count": null,
   "metadata": {},
   "outputs": [],
   "source": [
    "# ВЛОЖЕННЫЙ ЦИКЛ\n",
    "\n",
    "for hours in range(24):\n",
    "    for minutes in range(60):\n",
    "        for seconds in range(60):\n",
    "            print(hours, ':', minutes, ':', seconds)"
   ]
  },
  {
   "cell_type": "code",
   "execution_count": 55,
   "metadata": {},
   "outputs": [
    {
     "name": "stdout",
     "output_type": "stream",
     "text": [
      "1 + 1 = 2\n",
      "1 + 2 = 3\n",
      "1 + 3 = 4\n",
      "1 + 4 = 5\n",
      "1 + 5 = 6\n",
      "1 + 6 = 7\n",
      "1 + 7 = 8\n",
      "1 + 8 = 9\n",
      "1 + 9 = 10\n",
      "\n",
      "2 + 1 = 3\n",
      "2 + 2 = 4\n",
      "2 + 3 = 5\n",
      "2 + 4 = 6\n",
      "2 + 5 = 7\n",
      "2 + 6 = 8\n",
      "2 + 7 = 9\n",
      "2 + 8 = 10\n",
      "2 + 9 = 11\n",
      "\n"
     ]
    }
   ],
   "source": [
    "#ТАБЛИЦА ПЛЮСОВ (от 1 до 9) для ВВЕДЕННОГО ЧИСЛА \n",
    "\n",
    "n = int(input())\n",
    "for i in range(1, n + 1): \n",
    "    for j in range(1, 10): \n",
    "        print(str(i) + \" + \" + str(j) + \" = \" + str(i + j))\n",
    "    print()"
   ]
  },
  {
   "cell_type": "code",
   "execution_count": 80,
   "metadata": {},
   "outputs": [
    {
     "name": "stdout",
     "output_type": "stream",
     "text": [
      "0 0\n",
      "0 1\n",
      "0 2\n",
      "1 0\n",
      "1 1\n",
      "1 2\n",
      "2 0\n",
      "2 1\n",
      "2 2\n"
     ]
    }
   ],
   "source": [
    "# ВЛОЖЕННЫЙ ЦИКЛ\n",
    "\n",
    "for i in range(3):\n",
    "    for j in range(3):\n",
    "        print(i, j)"
   ]
  },
  {
   "cell_type": "code",
   "execution_count": 30,
   "metadata": {},
   "outputs": [
    {
     "name": "stdout",
     "output_type": "stream",
     "text": [
      "53 : 50"
     ]
    },
    {
     "ename": "KeyboardInterrupt",
     "evalue": "",
     "output_type": "error",
     "traceback": [
      "\u001b[1;31m---------------------------------------------------------------------------\u001b[0m",
      "\u001b[1;31mKeyboardInterrupt\u001b[0m                         Traceback (most recent call last)",
      "\u001b[1;32m<ipython-input-30-b58f7084d51d>\u001b[0m in \u001b[0;36m<module>\u001b[1;34m\u001b[0m\n\u001b[0;32m      3\u001b[0m     \u001b[1;32mfor\u001b[0m \u001b[0mseconds\u001b[0m \u001b[1;32min\u001b[0m \u001b[0mrange\u001b[0m\u001b[1;33m(\u001b[0m\u001b[1;36m60\u001b[0m\u001b[1;33m)\u001b[0m\u001b[1;33m:\u001b[0m\u001b[1;33m\u001b[0m\u001b[1;33m\u001b[0m\u001b[0m\n\u001b[0;32m      4\u001b[0m         \u001b[0mprint\u001b[0m\u001b[1;33m(\u001b[0m\u001b[0mminutes\u001b[0m\u001b[1;33m,\u001b[0m \u001b[1;34m':'\u001b[0m\u001b[1;33m,\u001b[0m \u001b[0mseconds\u001b[0m\u001b[1;33m,\u001b[0m \u001b[0mend\u001b[0m\u001b[1;33m=\u001b[0m\u001b[1;34m''\u001b[0m\u001b[1;33m)\u001b[0m\u001b[1;33m\u001b[0m\u001b[1;33m\u001b[0m\u001b[0m\n\u001b[1;32m----> 5\u001b[1;33m         \u001b[0msleep\u001b[0m\u001b[1;33m(\u001b[0m\u001b[1;36m1\u001b[0m\u001b[1;33m)\u001b[0m\u001b[1;33m\u001b[0m\u001b[1;33m\u001b[0m\u001b[0m\n\u001b[0m\u001b[0;32m      6\u001b[0m         \u001b[0mprint\u001b[0m\u001b[1;33m(\u001b[0m\u001b[0mend\u001b[0m\u001b[1;33m=\u001b[0m\u001b[1;34m'\\r'\u001b[0m\u001b[1;33m)\u001b[0m\u001b[1;33m\u001b[0m\u001b[1;33m\u001b[0m\u001b[0m\n",
      "\u001b[1;31mKeyboardInterrupt\u001b[0m: "
     ]
    }
   ],
   "source": [
    "#ЧАСЫ\n",
    "\n",
    "from time import *\n",
    "for minutes in range(60):\n",
    "    for seconds in range(60):\n",
    "        print(minutes, ':', seconds, end='')\n",
    "        sleep(1)\n",
    "        print(end='\\r')"
   ]
  },
  {
   "cell_type": "code",
   "execution_count": null,
   "metadata": {},
   "outputs": [],
   "source": [
    "#РЕШЕНИЕ УРАВНЕНИЙ \n",
    "\n",
    "total = 0\n",
    "for x in range(1, 45):\n",
    "    for y in range(1, 45):\n",
    "        for z in range(1, 45):\n",
    "            if x ** 2 + y ** 2 + z ** 2 == 2020:\n",
    "                total += 1\n",
    "                print('x =', x, 'y =', y, 'z =', z)\n",
    "print('Общее количество натуральных решений =', total)"
   ]
  },
  {
   "cell_type": "code",
   "execution_count": 62,
   "metadata": {},
   "outputs": [
    {
     "name": "stdout",
     "output_type": "stream",
     "text": [
      "1 4 7\n",
      "2 1 9\n"
     ]
    }
   ],
   "source": [
    "#РЕШЕНИЕ УРАВНЕНИЙ \n",
    "\n",
    "for n in range(1, 100):\n",
    "    for k in range(1, 100):\n",
    "        for m in range (1, 100):\n",
    "            if 28 * n + 30 * k + 31 * m == 365: \n",
    "                print(n, k, m)"
   ]
  },
  {
   "cell_type": "code",
   "execution_count": 77,
   "metadata": {},
   "outputs": [
    {
     "ename": "SyntaxError",
     "evalue": "invalid syntax (<ipython-input-77-cdda389cd57a>, line 7)",
     "output_type": "error",
     "traceback": [
      "\u001b[1;36m  File \u001b[1;32m\"<ipython-input-77-cdda389cd57a>\"\u001b[1;36m, line \u001b[1;32m7\u001b[0m\n\u001b[1;33m    if suma == e ** 5:\u001b[0m\n\u001b[1;37m                     ^\u001b[0m\n\u001b[1;31mSyntaxError\u001b[0m\u001b[1;31m:\u001b[0m invalid syntax\n"
     ]
    }
   ],
   "source": [
    "# Гипотеза Эйлера о сумме степеней\n",
    "\n",
    "for a in range(1, 151):\n",
    "    for b in range(a, 151):\n",
    "        for c in range(b, 151):\n",
    "            for d in range(c, 151):\n",
    "                e = int((a ** 5 + b ** 5 + c ** 5 + d ** 5) ** 0.2)\n",
    "                suma = int(a ** 5 + b ** 5 + c ** 5 + d ** 5)\n",
    "                if suma == e ** 5:\n",
    "                    print(a, b, c, d, e)"
   ]
  },
  {
   "cell_type": "code",
   "execution_count": null,
   "metadata": {},
   "outputs": [],
   "source": [
    "#ЦИФРОВОЙ КОРЕНЬ ЧИСЛА (сумма чисел + сума числе их суммы)\n",
    "\n",
    "n = int(input())\n",
    "x = 0\n",
    "suma1 = 0\n",
    "suma2 = 0\n",
    "\n",
    "while n != 0: \n",
    "    x = n % 10\n",
    "    suma1 += x\n",
    "    n = n // 10\n",
    "while suma1 != 0: \n",
    "    x = suma1 % 10\n",
    "    suma2 += x\n",
    "    suma1 = suma1 // 10\n",
    "        \n",
    "print(suma2)\n"
   ]
  },
  {
   "cell_type": "code",
   "execution_count": null,
   "metadata": {},
   "outputs": [],
   "source": [
    "# СТРОКИ - СУММА ЦИФР\n",
    "\n",
    "s = input()\n",
    "suma = 0\n",
    "for i in range(len(s)): \n",
    "    suma += int(s[i])\n",
    "print(suma)"
   ]
  },
  {
   "cell_type": "code",
   "execution_count": 199,
   "metadata": {
    "tags": []
   },
   "outputs": [
    {
     "name": "stdout",
     "output_type": "stream",
     "text": [
      "10000000\n"
     ]
    }
   ],
   "source": [
    "# ПЕРЕВОД В БИНАРНЫЙ КОД\n",
    "\n",
    "n = int(input())\n",
    "last = 0\n",
    "binar = str()\n",
    "\n",
    "while n != 0: \n",
    "    last = n % 2\n",
    "    binar = str(last) + binar\n",
    "    n = n // 2\n",
    "\n",
    "print(binar)\n",
    "\n",
    "#КОД ННОРМАЛЬНОГО ЧЕЛОВЕКА\n",
    "\n",
    "# # a, b = int(input()), \"\"\n",
    "#while a>0 :\n",
    "#    b = str(a%2) + b\n",
    "#    a //= 2 \n",
    "#print(b)"
   ]
  },
  {
   "cell_type": "markdown",
   "metadata": {},
   "source": []
  },
  {
   "cell_type": "code",
   "execution_count": 209,
   "metadata": {},
   "outputs": [
    {
     "name": "stdout",
     "output_type": "stream",
     "text": [
      "123cd123123a\n"
     ]
    }
   ],
   "source": [
    "# замена текста\n",
    "\n",
    "s = 'abcdababa'\n",
    "print(s.replace('ab', '123'))"
   ]
  },
  {
   "cell_type": "code",
   "execution_count": null,
   "metadata": {},
   "outputs": [],
   "source": [
    "# ЕСЛИ ВВОД ЗАКАНЧИВАЕТСЯ НА КОМ ИЛИ РУ\n",
    "\n",
    "print('YES' if input().endswith(('.com','.ru')) else 'NO')"
   ]
  },
  {
   "cell_type": "code",
   "execution_count": 25,
   "metadata": {},
   "outputs": [
    {
     "name": "stdout",
     "output_type": "stream",
     "text": [
      "['ккк', 'ввв', 'апа']\n"
     ]
    }
   ],
   "source": [
    "#  СПИСОК ИЗ ВВЕДЕННЫХ ЗНАЧЕНИЙ\n",
    "\n",
    "n = int(input())\n",
    "spisok = []\n",
    "for i in range(n): \n",
    "    s = input()\n",
    "    spisok.append(s)\n",
    "print(spisok) "
   ]
  },
  {
   "cell_type": "code",
   "execution_count": 27,
   "metadata": {},
   "outputs": [
    {
     "name": "stdout",
     "output_type": "stream",
     "text": [
      "['a', 'bb', 'ccc', 'dddd', 'eeeee', 'ffffff', 'ggggggg', 'hhhhhhhh', 'iiiiiiiii', 'jjjjjjjjjj', 'kkkkkkkkkkk', 'llllllllllll', 'mmmmmmmmmmmmm', 'nnnnnnnnnnnnnn', 'ooooooooooooooo', 'pppppppppppppppp', 'qqqqqqqqqqqqqqqqq', 'rrrrrrrrrrrrrrrrrr', 'sssssssssssssssssss', 'tttttttttttttttttttt', 'uuuuuuuuuuuuuuuuuuuuu', 'vvvvvvvvvvvvvvvvvvvvvv', 'wwwwwwwwwwwwwwwwwwwwwww', 'xxxxxxxxxxxxxxxxxxxxxxxx', 'yyyyyyyyyyyyyyyyyyyyyyyyy', 'zzzzzzzzzzzzzzzzzzzzzzzzzz']\n"
     ]
    }
   ],
   "source": [
    "#  КАЖДЫЙ СЛЕДУЮЩИЙ СИМВОЛ + 1\n",
    "\n",
    "spisok = []\n",
    "abc = 'abcdefghijklmnopqrstuvwxyz'\n",
    "spisok.extend(abc)\n",
    "\n",
    "for i in range(len(spisok)): \n",
    "    spisok[i] = spisok[i] * (i + 1)\n",
    "\n",
    "print(spisok)\n",
    "\n",
    "# print([chr(97 + i) * (i + 1) for i in range(26)])\n",
    "\n",
    "# n=[]\n",
    "#x=96\n",
    "#for i in range(1, 27):\n",
    "#    n.append(chr(x+i)*i)\n",
    "#print(n)"
   ]
  },
  {
   "cell_type": "code",
   "execution_count": 45,
   "metadata": {},
   "outputs": [
    {
     "name": "stdout",
     "output_type": "stream",
     "text": [
      "82649673\n"
     ]
    }
   ],
   "source": [
    "# Сумма квадратов списка\n",
    "\n",
    "numbers = [1, 78, 23, -65, 99, 9089, 34, -32, 0, -67, 1, 11, 111]\n",
    "for i in range(len(numbers)): \n",
    "    numbers[i] = numbers[i] ** 2\n",
    "print(sum(numbers))\n",
    "\n",
    "#  numbers = [1, 78, 23, -65, 99, 9089, 34, -32, 0, -67, 1, 11, 111]\n",
    "#  print(sum([i**2 for i in numbers]))\n"
   ]
  },
  {
   "cell_type": "code",
   "execution_count": 46,
   "metadata": {},
   "outputs": [
    {
     "name": "stdout",
     "output_type": "stream",
     "text": [
      "3\n",
      "3\n",
      "3\n",
      "\n",
      "16\n",
      "16\n",
      "16\n"
     ]
    }
   ],
   "source": [
    "n = int(input())\n",
    "vvod = []\n",
    "vyvod = []\n",
    "\n",
    "for i in range(n): \n",
    "    x = int(input())\n",
    "    vvod.append(x)\n",
    "    fx = x ** 2 + 2 * x + 1\n",
    "    vyvod.append(fx)\n",
    "\n",
    "print(*vvod, sep='\\n')\n",
    "print()\n",
    "print(*vyvod, sep='\\n')"
   ]
  },
  {
   "cell_type": "code",
   "execution_count": null,
   "metadata": {},
   "outputs": [],
   "source": [
    "#  УДАЛЕНИЕ МАКС И МИН В СПИСКЕ\n",
    "\n",
    "n = int(input())\n",
    "lst = []\n",
    "\n",
    "for i in range(n): \n",
    "    x = int(input())\n",
    "    lst.append(x)\n",
    "\n",
    "mini = min(lst)\n",
    "maxi = max(lst)\n",
    "\n",
    "lst.remove(mini)\n",
    "lst.remove(maxi)\n",
    "\n",
    "print(*lst, sep='\\n')"
   ]
  },
  {
   "cell_type": "code",
   "execution_count": null,
   "metadata": {},
   "outputs": [],
   "source": [
    "#  ВЫВОД БЕЗ ДУБЛЕЙ\n",
    "\n",
    "n = int(input())\n",
    "lst = []\n",
    "\n",
    "for i in range(n): \n",
    "    x = input()\n",
    "    if x not in lst: \n",
    "        lst.append(x)\n",
    "\n",
    "print(*lst, sep='\\n')"
   ]
  },
  {
   "cell_type": "code",
   "execution_count": null,
   "metadata": {},
   "outputs": [],
   "source": [
    "#  ПОИСК И ВЫВОД ФРАЗ СОДЕРЖАЩИХ СЛОВО\n",
    "\n",
    "n = int(input())\n",
    "lst = []\n",
    "for i in range(n): \n",
    "    x = input()\n",
    "    lst.append(x)\n",
    "search = input()\n",
    "for i in lst: \n",
    "    if search.lower() in i.lower():\n",
    "        print(i)"
   ]
  },
  {
   "cell_type": "code",
   "execution_count": null,
   "metadata": {},
   "outputs": [],
   "source": [
    "#  ПОИСК И ВЫВОД ФРАЗ СОДЕРЖАЩИХ два введенных СЛОВО\n",
    "# \n",
    "\n",
    "n = int(input())\n",
    "lst = []\n",
    "for i in range(n): \n",
    "    x = input()\n",
    "    lst.append(x)\n",
    "\n",
    "n2 = int(input())\n",
    "lst2 = []\n",
    "for i in range(n2): \n",
    "    x = input()\n",
    "    lst2.append(x)\n",
    "\n",
    "lst3 = []\n",
    "count = 0\n",
    "for i in lst: \n",
    "    for j in lst2: \n",
    "        if j.lower() in i.lower(): \n",
    "            count += 1\n",
    "            if count == len(lst2): \n",
    "                lst3.append(i)\n",
    "    count = 0                \n",
    "            \n",
    "print(*lst3, sep='\\n') \n",
    "\n",
    "\n",
    "\"\"\"\" \n",
    "s = [input() for _ in range(int(input()))]\n",
    "d = [input() for _ in range(int(input()))]\n",
    "for i in s:\n",
    "    for j in d:\n",
    "        if j.lower() not in i.lower():\n",
    "            break\n",
    "    else:\n",
    "        print(i)\n",
    "\"\"\""
   ]
  },
  {
   "cell_type": "markdown",
   "metadata": {},
   "source": [
    "# \n",
    "\n",
    "words = ['Мы', 'учим', 'язык', 'Python']\n",
    "print('*'.join(words))\n",
    "\n",
    "--- Мы*учим*язык*Python\n",
    "\n",
    "s = 'Python is the most powerful language'\n",
    "words = s.split()\n",
    "print(words)\n",
    "\n",
    "--- ['Python', 'is', 'the', 'most', 'powerful', 'language']"
   ]
  },
  {
   "cell_type": "code",
   "execution_count": 47,
   "metadata": {},
   "outputs": [
    {
     "name": "stdout",
     "output_type": "stream",
     "text": [
      "B**E**E**G**E**E**K\n"
     ]
    }
   ],
   "source": [
    "# ВЫВОД ИНИЦИАЛОВ ФИО\n",
    "\n",
    "s = input().split()\n",
    "for i in s: \n",
    "    print(i[0] + '.', end='')"
   ]
  },
  {
   "cell_type": "code",
   "execution_count": 48,
   "metadata": {},
   "outputs": [
    {
     "name": "stdout",
     "output_type": "stream",
     "text": [
      "h99h\n"
     ]
    }
   ],
   "source": [
    "'''Separator'''\n",
    "print(*input(), sep=input())\n"
   ]
  },
  {
   "cell_type": "code",
   "execution_count": null,
   "metadata": {},
   "outputs": [],
   "source": [
    "# ПОИСК ПАРНЫХ СИМВОЛОВ\n",
    "\n",
    "\n",
    "txt = input().split()\n",
    "count = 0\n",
    "\n",
    "for i in range(len(txt)):\n",
    "    for j in range((i + 1), len(txt)): \n",
    "        if txt[i] == txt[j]:\n",
    "            count += 1\n",
    "    \n",
    "print(count)"
   ]
  },
  {
   "cell_type": "code",
   "execution_count": 62,
   "metadata": {},
   "outputs": [
    {
     "name": "stdout",
     "output_type": "stream",
     "text": [
      "[17, 10, 11, 25, 4, 5, 6, 17, 10, 11, 4, 5, 6]\n"
     ]
    }
   ],
   "source": [
    "numbers = [8, 9, 10, 11]\n",
    "del numbers[1]\n",
    "numbers.insert(1, 17)  #  Заменил второй элемент списка на 17;\n",
    "numbers.extend([4, 5, 6])  #  Добавил числа 4, 5 и 6 в конец списка;\n",
    "del numbers[0]  #  Удалил первый элемент списка;\n",
    "numbers.extend(numbers)  #  Удвоил список;\n",
    "numbers.insert(3, 25)  #  Вставил число 25 по индексу 3;\n",
    "print(numbers)"
   ]
  },
  {
   "cell_type": "code",
   "execution_count": null,
   "metadata": {},
   "outputs": [],
   "source": [
    "#  ПОМЕНЯТЬ МЕСТАМИ МИН И МАКС\n",
    "\n",
    "s = input().split()\n",
    "\n",
    "for i in range(len(s)): \n",
    "    s[i] = int(s[i])\n",
    "\n",
    "x = s.index(max(s))\n",
    "y = s.index(min(s))\n",
    "\n",
    "s[x], s[y] = s[y], s[x]\n",
    "\n",
    "print(*s)"
   ]
  },
  {
   "cell_type": "code",
   "execution_count": 63,
   "metadata": {},
   "outputs": [
    {
     "name": "stdout",
     "output_type": "stream",
     "text": [
      "Общее количество артиклей: 2\n"
     ]
    }
   ],
   "source": [
    "# ПОСЧИТАТЬ КОЛ_ВО АРТИКЛЕЙ\n",
    "\n",
    "s = input().split()\n",
    "count = 0\n",
    "\n",
    "for i in s: \n",
    "    if i in ('a', 'A', 'an', 'An', 'the', 'The'): \n",
    "        count += 1\n",
    "    \n",
    "print(f'Общее количество артиклей:', count)"
   ]
  },
  {
   "cell_type": "code",
   "execution_count": 1,
   "metadata": {},
   "outputs": [
    {
     "name": "stdout",
     "output_type": "stream",
     "text": [
      "['alse', 'rue', 'one', 'nd', 'ith', 's', 'ssert', 'reak', 'lass', 'ontinue', 'ef', 'el', 'lif', 'lse', 'xcept', 'inally', 'ry', 'or', 'rom', 'lobal', 'f', 'mport', 'n', 's', 'ambda', 'onlocal', 'ot', 'r', 'ass', 'aise', 'eturn', 'hile', 'ield']\n"
     ]
    }
   ],
   "source": [
    "# УДАЛИТЬ ПЕРВУЮ БУКВУ ВО ВСЕХ СЛОВАХ СПИСКА\n",
    "\n",
    "keywords = ['False', 'True', 'None', 'and', 'with', 'as', 'assert', 'break', 'class', 'continue', 'def', 'del', 'elif', 'else', 'except', 'finally', 'try', 'for', 'from', 'global', 'if', 'import', 'in', 'is', 'lambda', 'nonlocal', 'not', 'or', 'pass', 'raise', 'return', 'while', 'yield']\n",
    "\n",
    "new_keywords = [c[1:] for c in keywords]\n",
    "\n",
    "print(new_keywords)"
   ]
  },
  {
   "cell_type": "code",
   "execution_count": 9,
   "metadata": {},
   "outputs": [
    {
     "name": "stdout",
     "output_type": "stream",
     "text": [
      "[101, 111, 121, 131, 141, 151, 161, 171, 181, 191, 202, 212, 222, 232, 242, 252, 262, 272, 282, 292, 303, 313, 323, 333, 343, 353, 363, 373, 383, 393, 404, 414, 424, 434, 444, 454, 464, 474, 484, 494, 505, 515, 525, 535, 545, 555, 565, 575, 585, 595, 606, 616, 626, 636, 646, 656, 666, 676, 686, 696, 707, 717, 727, 737, 747, 757, 767, 777, 787, 797, 808, 818, 828, 838, 848, 858, 868, 878, 888, 898, 909, 919, 929, 939, 949, 959, 969, 979, 989, 999]\n"
     ]
    }
   ],
   "source": [
    "# НАПЕЧАТАТЬ ВСЕ ПАЛИНДРОМЫ В ДИАПАЗОНЕ\n",
    "\n",
    "palindromes = [i for i in range(100, 1001) if str(i)[:] == str(i)[::-1]]\n",
    "\n",
    "print(palindromes)"
   ]
  },
  {
   "cell_type": "code",
   "execution_count": null,
   "metadata": {},
   "outputs": [],
   "source": [
    "# ВЫТАЩИТЬ ЦИФРЫ ИЗ РЕНДОМНОГО ТЕКСТА\n",
    "\n",
    "n = input()\n",
    "s = [c for c in n if c in '1234567890']\n",
    "print(*s, sep='')"
   ]
  },
  {
   "cell_type": "code",
   "execution_count": 15,
   "metadata": {},
   "outputs": [
    {
     "name": "stdout",
     "output_type": "stream",
     "text": [
      "[-97, -96, -95, -94, -91, -84, -84, -84, -83, -79, -78, -78, -78, -76, -76, -75, -74, -74, -73, -71, -71, -71, -68, -68, -66, -65, -62, -61, -58, -56, -55, -55, -51, -47, -41, -40, -37, -32, -29, -27, -26, -26, -24, -20, -19, -17, -17, -16, -16, -13, -11, -9, -8, -6, 0, 1, 7, 7, 11, 14, 16, 17, 17, 21, 21, 24, 25, 32, 36, 38, 38, 39, 44, 44, 47, 48, 50, 52, 56, 58, 63, 67, 69, 70, 75, 78, 79, 79, 88, 88, 88, 91, 92, 93, 93, 94, 96, 96, 97, 98]\n"
     ]
    }
   ],
   "source": [
    "# РУЧНАЯ ПУЗІРЬКОВАЯ СОРТИРОВКА\n",
    "\n",
    "a = [17, 24, 91, 96, 67, -27, 79, -71, -71, 58, 48, 88, 88, -16, -78, 96, -76, 56, 92, 1, 32, -17, 36, 88, -61, -97, -37, -84, 50, 47, 94, -6, 52, -76, 93, 14, -32, 98, -65, -16, -9, -68, -20, -40, -71, 93, -91, 44, 25, 79, 97, 0, -94, 7, -47, -96, -55, -58, -78, -78, -79, 75, 44, -56, -41, 38, 16, 70, 17, -17, -24, -83, -74, -73, 11, -26, 63, -75, -19, -13, -51, -74, 21, -8, 21, -68, -66, -84, -95, 78, 69, -29, 39, 38, -55, 7, -11, -26, -62, -84]\n",
    "\n",
    "n = len(a)\n",
    "\n",
    "for i in range(n - 1):\n",
    "    flag = True\n",
    "    for j in range(n - i - 1):\n",
    "        if a[j] > a[j + 1]:\n",
    "            a[j], a[j + 1] = a[j + 1], a[j]\n",
    "            flag = False \n",
    "        else: \n",
    "            continue\n",
    "        if flag: \n",
    "            break\n",
    "\n",
    "print(a)"
   ]
  },
  {
   "cell_type": "code",
   "execution_count": 32,
   "metadata": {},
   "outputs": [
    {
     "name": "stdout",
     "output_type": "stream",
     "text": [
      "[-97, -96, -94, -94, -79, -77, -72, -72, -71, -71, -67, -67, -64, -64, -63, -62, -62, -61, -60, -58, -56, -52, -48, -47, -42, -41, -39, -36, -32, -31, -30, -26, -24, -23, -22, -21, -19, -16, -16, -14, -10, -8, -5, -3, -1, 0, 2, 2, 3, 3, 5, 9, 9, 14, 20, 22, 27, 32, 32, 35, 35, 39, 39, 41, 41, 43, 48, 53, 57, 57, 58, 59, 59, 59, 60, 60, 61, 62, 63, 63, 64, 66, 71, 72, 76, 78, 78, 80, 82, 84, 87, 87, 89, 90, 92, 92, 93, 94, 96, 98]\n"
     ]
    }
   ],
   "source": [
    "# Сортировка выбором (Selection Sort)\n",
    "\n",
    "\n",
    "a = [78, -32, 5, 39, 58, -5, -63, 57, 72, 9, 53, -1, 63, -97, -21, -94, -47, 57, -8, 60, -23, -72, -22, -79, 90, 96, -41, -71, -48, 84, 89, -96, 41, -16, 94, -60, -64, -39, 60, -14, -62, -19, -3, 32, 98, 14, 43, 3, -56, 71, -71, -67, 80, 27, 92, 92, -64, 0, -77, 2, -26, 41, 3, -31, 48, 39, 20, -30, 35, 32, -58, 2, 63, 64, 66, 62, 82, -62, 9, -52, 35, -61, 87, 78, 93, -42, 87, -72, -10, -36, 61, -16, 59, 59, 22, -24, -67, 76, -94, 59]\n",
    "\n",
    "n = len(a)\n",
    "\n",
    "for i in range(n):\n",
    "        lowest_value_index = i\n",
    "        for j in range(i + 1, n):\n",
    "            if a[j] < a[lowest_value_index]:\n",
    "                lowest_value_index = j\n",
    "        a[i], a[lowest_value_index] = a[lowest_value_index], a[i]\n",
    "\n",
    "print(a)"
   ]
  },
  {
   "cell_type": "code",
   "execution_count": null,
   "metadata": {},
   "outputs": [],
   "source": [
    "# СОЗДАТЬ СПИСОК В ДИАПАЗОНЕ\n",
    "\n",
    "n = int(input())\n",
    "numbers = list(range(2, n + 1, 2))\n",
    "print(numbers)\n",
    "\n",
    "# print([i for i in range(2, int(input())+1, 2)])\n",
    "\n"
   ]
  },
  {
   "cell_type": "code",
   "execution_count": 36,
   "metadata": {},
   "outputs": [
    {
     "name": "stdout",
     "output_type": "stream",
     "text": [
      "334\n"
     ]
    }
   ],
   "source": [
    "# СУММА ДВУХ СПИСКОВ ЧИСЕЛ В ТРЕТЕМ СПИСКЕ\n",
    "\n",
    "L, M = input().split(), input().split()\n",
    "SUMA = []\n",
    "for i in range(len(L)): \n",
    "    SUMA.append(int(L[i]) + int(M[i]))\n",
    "print(*SUMA, sep=' ')"
   ]
  },
  {
   "cell_type": "code",
   "execution_count": null,
   "metadata": {},
   "outputs": [],
   "source": [
    "# СУММА ЧИСЕЛ В СПИСКЕ В МАТЕМАЧИЧЕСКОМ ВЫРАЖЕНИИ\n",
    "\n",
    "L = input().split()\n",
    "suma = 0\n",
    "for i in range(len(L)): \n",
    "    suma += int(L[i]) \n",
    "print(*L, sep='+', end='=')\n",
    "print(suma)\n",
    "\n",
    "# n = [int(i) for i in input().split()]\n",
    "# print(*n, sep='+', end='=')\n",
    "# print(sum(n))"
   ]
  },
  {
   "cell_type": "code",
   "execution_count": null,
   "metadata": {},
   "outputs": [],
   "source": [
    "#  ПРОВЕРКА НОМЕРА ТЕЛЕФОНА\n",
    "\n",
    "n = input()\n",
    "\n",
    "check1 = n.replace('-', '')\n",
    "digit = check1.isdigit()\n",
    "lst = n.split('-')\n",
    "\n",
    "if digit == False: \n",
    "    print('NO')\n",
    "\n",
    "else:\n",
    "    if lst[0] == '7': \n",
    "        lst.pop(0)\n",
    "    if len(lst[0]) == 3 and len(lst[1]) == 3 and len(lst[2]) == 4: \n",
    "        print('YES')\n",
    "    else: \n",
    "        print('NO')\n",
    "\n",
    "#n = input().split(\"-\")\n",
    "#c = [len(i) for i in n] \n",
    "#if c == [3, 3, 4] and ''.join(n).isdigit(): \n",
    "#    print(\"YES\")\n",
    "#elif c == [1, 3, 3, 4] and ''.join(n).isdigit() and n[0] == '7': \n",
    "#    print(\"YES\")\n",
    "#else:\n",
    "#    print(\"NO\")"
   ]
  },
  {
   "cell_type": "code",
   "execution_count": null,
   "metadata": {},
   "outputs": [],
   "source": [
    "# ДЛИНА МАКСИМАЛЬНОГО СЛОВА\n",
    "\n",
    "n = input().split()\n",
    "print(max([len(i) for i in n]))"
   ]
  },
  {
   "cell_type": "code",
   "execution_count": null,
   "metadata": {},
   "outputs": [],
   "source": [
    "# ПЕРЕСТАВИТЬ БУКВІ МЕСТАМИ И ДОБАВИТЬ ЕЩЕ ЧТОТО\n",
    "\n",
    "n = input().split()\n",
    "print(*[i[1:] + i[0] + 'ки' for i in n])"
   ]
  },
  {
   "cell_type": "code",
   "execution_count": 42,
   "metadata": {},
   "outputs": [
    {
     "name": "stdout",
     "output_type": "stream",
     "text": [
      "*\n",
      "**\n",
      "***\n",
      "****\n",
      "*****\n",
      "******\n",
      "*******\n",
      "********\n",
      "*********\n",
      "**********\n"
     ]
    }
   ],
   "source": [
    "# ФУНКЦИЯ ПЕЧАТЬ ТРЕУГОЛЬНИКА\n",
    "\n",
    "def draw_triangle():\n",
    "    for i in range(1, 11): \n",
    "        print(i * '*')\n",
    "\n",
    "# основная программа\n",
    "draw_triangle()  # вызов функции\n",
    "\n",
    "\n",
    "# SHORTER\n",
    "#def draw_triangle():\n",
    "#    print(*['*' * i for i in range(1, 11)], sep='\\n')\n",
    "#draw_triangle()  "
   ]
  },
  {
   "cell_type": "code",
   "execution_count": null,
   "metadata": {},
   "outputs": [],
   "source": []
  },
  {
   "cell_type": "code",
   "execution_count": 68,
   "metadata": {},
   "outputs": [
    {
     "name": "stdout",
     "output_type": "stream",
     "text": [
      "15\n"
     ]
    }
   ],
   "source": [
    "# ФУНКЦИЯ СУММА ВВЕДЕННІХ ЧИСЕЛ \n",
    "\n",
    "def print_digit_sum(num):\n",
    "    for i in range(len(n)): \n",
    "        n[i] = int(n[i])\n",
    "    print(sum(n))\n",
    "\n",
    "n = list(input())\n",
    "print_digit_sum(n)"
   ]
  },
  {
   "cell_type": "code",
   "execution_count": 70,
   "metadata": {},
   "outputs": [
    {
     "name": "stdout",
     "output_type": "stream",
     "text": [
      "6.2139999999999995\n"
     ]
    }
   ],
   "source": [
    "# ФУНКЦИЯ МИЛИ В КМ\n",
    "\n",
    "def convert_to_miles(km):\n",
    "    miles = num * 0.6214\n",
    "    return miles\n",
    "num = int(input())\n",
    "\n",
    "print(convert_to_miles(num))"
   ]
  },
  {
   "cell_type": "code",
   "execution_count": 72,
   "metadata": {},
   "outputs": [
    {
     "name": "stdout",
     "output_type": "stream",
     "text": [
      "31\n"
     ]
    }
   ],
   "source": [
    "# КОЛВО ДНЕЙ В МЕСЯЦЕ\n",
    "def get_days(month):\n",
    "    if month == 2: \n",
    "        return 28\n",
    "    if month == 4 or month == 6 or month == 9 or month == 11: \n",
    "        return 30\n",
    "    else: \n",
    "        return 31\n",
    "\n",
    "num = int(input())\n",
    "print(get_days(num))\n",
    "\n",
    "\n",
    "#def get_days(month):\n",
    "#    if month in (1, 3, 5, 7, 8, 10, 12): return 31\n",
    "#    if month in (4, 6, 9, 11): return 30\n",
    "#    if month == 2: return 28\n",
    "#\n",
    "#num = int(input())\n",
    "#print(get_days(num))"
   ]
  },
  {
   "cell_type": "code",
   "execution_count": 79,
   "metadata": {},
   "outputs": [
    {
     "name": "stdout",
     "output_type": "stream",
     "text": [
      "[1, 2, 5, 10]\n"
     ]
    }
   ],
   "source": [
    "# ВОЗВРАТ ДЕЛИТЕЛЕЙ ЧИСЛА\n",
    "\n",
    "def get_factors(num):\n",
    "    lst = []\n",
    "    for i in range(1, num + 1): \n",
    "        if num % i == 0: \n",
    "            lst.append(i)\n",
    "    return lst\n",
    "\n",
    "n = int(input())\n",
    "\n",
    "print(get_factors(n))\n",
    "\n",
    "#############################\n",
    "#def get_factors(num):\n",
    "#    return [n for n in range(1, num + 1) if num % n == 0]\n",
    "#n = int(input())\n",
    "#print(get_factors(n))"
   ]
  },
  {
   "cell_type": "code",
   "execution_count": 85,
   "metadata": {},
   "outputs": [
    {
     "name": "stdout",
     "output_type": "stream",
     "text": [
      "[0, 4, 7, 8, 9]\n"
     ]
    }
   ],
   "source": [
    "# НАЙТИ ВХОЖДЕНИЯ СИМВОЛА В СПИСКЕ\n",
    "\n",
    "def find_all(target, symbol):\n",
    "    return [i for i in range(len(target)) if target[i] == symbol]\n",
    "\n",
    "s = input()\n",
    "char = input()\n",
    "print(find_all(s, char))"
   ]
  },
  {
   "cell_type": "code",
   "execution_count": 2,
   "metadata": {},
   "outputs": [
    {
     "name": "stdout",
     "output_type": "stream",
     "text": [
      "[3, 5]\n"
     ]
    }
   ],
   "source": [
    "# СЛИЯНИЕ СПИСКОВ\n",
    "\n",
    "def merge(list1, list2):\n",
    "    lst = list1 + list2\n",
    "    lst.sort()\n",
    "    return lst\n",
    "\n",
    "\n",
    "numbers1 = [int(c) for c in input().split()]\n",
    "numbers2 = [int(c) for c in input().split()]\n",
    "print(merge(numbers1, numbers2))"
   ]
  },
  {
   "cell_type": "code",
   "execution_count": 109,
   "metadata": {},
   "outputs": [
    {
     "name": "stdout",
     "output_type": "stream",
     "text": [
      "False\n"
     ]
    }
   ],
   "source": [
    "# ПРОВЕРКА ПАРОЛЯ НА СЛОЖНОСТЬ\n",
    "\n",
    "def is_password_good(password):\n",
    "    if len(password) < 8: \n",
    "        return False\n",
    "    \n",
    "    count = 0\n",
    "\n",
    "    if password != password.upper(): \n",
    "        count += 1\n",
    "    if password != password.lower(): \n",
    "        count += 1\n",
    "\n",
    "    for i in password: \n",
    "        if i in '1234567890':\n",
    "            count += 1\n",
    "            break\n",
    "            \n",
    "               \n",
    "    return True if count == 3 else False\n",
    "\n",
    "txt = input()\n",
    "print(is_password_good(txt))\n",
    "\n",
    "#----------------------------------#\n",
    "\"\"\" def is_password_good(password):\n",
    "    if len(password) < 8:\n",
    "        return False\n",
    "    flag1 = False\n",
    "    flag2 = False\n",
    "    flag3 = False\n",
    "    for c in password:\n",
    "        if c.isupper():\n",
    "            flag1 = True\n",
    "        elif c.islower():\n",
    "            flag2 = True\n",
    "        elif c.isdigit():\n",
    "            flag3 = True\n",
    "    return flag1 and flag2 and flag3 \"\"\""
   ]
  },
  {
   "cell_type": "code",
   "execution_count": 58,
   "metadata": {},
   "outputs": [
    {
     "name": "stdout",
     "output_type": "stream",
     "text": [
      "565 30 50\n",
      "False\n"
     ]
    }
   ],
   "source": [
    "# ПРОВЕРКА ПАРОЛЯ НА УСЛОВИЯ\n",
    "\n",
    "def is_valid_password(password):\n",
    "    s = password.split(':')\n",
    "    flag1, flag2, flag3 = False, False, False\n",
    "    if len(s) > 3: \n",
    "        return False\n",
    "\n",
    "    a = s[0]\n",
    "    b = int(s[1])\n",
    "    c = int(s[2])\n",
    "\n",
    "#1\n",
    "    if a == a[::-1]: \n",
    "        flag1 = True\n",
    "#2    \n",
    "    count = 0\n",
    "    for i in range(1, b + 1): \n",
    "        if b % i == 0: \n",
    "            count += 1\n",
    "    if count == 2: \n",
    "        flag2 = True\n",
    "#3 \n",
    "    if c % 2 == 0: \n",
    "        flag3 = True\n",
    "\n",
    "    return(flag1 and flag2 and flag3)\n",
    "\n",
    "psw = input()\n",
    "print(is_valid_password(psw))"
   ]
  },
  {
   "cell_type": "code",
   "execution_count": 96,
   "metadata": {},
   "outputs": [
    {
     "name": "stdout",
     "output_type": "stream",
     "text": [
      "True\n"
     ]
    }
   ],
   "source": [
    "# ПРОВЕРКА ПРАВИЛЬНОСТИ СКОБОК\n",
    "\n",
    "def is_correct_bracket(text):\n",
    "    \n",
    "\n",
    "    for i in range(len(text)): \n",
    "        while '()' in text: \n",
    "            text = text.replace('()', '')\n",
    "\n",
    "    return True if len(text) == 0 else False\n",
    "        \n",
    "\n",
    "txt = input()\n",
    "print(is_correct_bracket(txt))\n",
    "\n",
    "\"\"\" def is_correct_bracket(text):\n",
    "    i = 0\n",
    "    for c in text:\n",
    "        if (i < 0):\n",
    "            return False\n",
    "        if (c == '('):\n",
    "            i += 1\n",
    "        elif (c == ')'):\n",
    "            i -= 1\n",
    "    return (i == 0) \"\"\""
   ]
  },
  {
   "cell_type": "code",
   "execution_count": 111,
   "metadata": {},
   "outputs": [
    {
     "name": "stdout",
     "output_type": "stream",
     "text": [
      "this_is_camel_cased\n"
     ]
    }
   ],
   "source": [
    "# CAMEL CASED --- SNAKE CASED\n",
    "\n",
    "def convert_to_python_case(text):\n",
    "    list1 = list(text)\n",
    "    list1[0] = list1[0].lower()\n",
    "    list2 = []\n",
    "\n",
    "    for i in range(len(list1)): \n",
    "        if list1[i] not in 'ZXCVBNMASDFGHJKLQWERTYUIOP': \n",
    "            list2.append(list1[i])\n",
    "        else: \n",
    "            list2.append('_')\n",
    "            list2.append(list1[i].lower())\n",
    "\n",
    "    return ''.join(list2)\n",
    "\n",
    "txt = input()\n",
    "print(convert_to_python_case(txt))\n",
    "\n",
    "\"\"\" def convert_to_python_case(text):\n",
    "    s = ''\n",
    "    for el in text:\n",
    "        if el.isupper():\n",
    "            s += '_'\n",
    "        s += el.lower()\n",
    "    return s[1:] \"\"\""
   ]
  },
  {
   "cell_type": "code",
   "execution_count": 122,
   "metadata": {},
   "outputs": [
    {
     "name": "stdout",
     "output_type": "stream",
     "text": [
      "9.42477796076938 7.0685834705770345\n"
     ]
    }
   ],
   "source": [
    "# ПЛОЩАДЬ И РАДИУС КРУГА\n",
    "\n",
    "from math import*\n",
    "\n",
    "def get_circle(radius):\n",
    "    c = 2 * pi * radius\n",
    "    s = pi * radius ** 2\n",
    "\n",
    "    return c, s\n",
    "\n",
    "r = float(input())\n",
    "\n",
    "length, square = get_circle(r)\n",
    "print(length, square)"
   ]
  },
  {
   "cell_type": "code",
   "execution_count": 130,
   "metadata": {},
   "outputs": [
    {
     "name": "stdout",
     "output_type": "stream",
     "text": [
      "-1.0 -1.0\n"
     ]
    }
   ],
   "source": [
    "# КОРНИ КВАДРАТНОГО УРАВНЕНИЯ\n",
    "\n",
    "from math import sqrt\n",
    "def solve(a, b, c):\n",
    "    \n",
    "    d = b ** 2 - 4 * a * c\n",
    "\n",
    "    if d < 0: \n",
    "        return False\n",
    "\n",
    "    elif d == 0: \n",
    "        x = -b / (2 * a)\n",
    "        return x, x\n",
    "\n",
    "    else: \n",
    "        x1 = (-b + sqrt(d)) / (2 * a)\n",
    "        x2 = (-b - sqrt(d)) / (2 * a)\n",
    "\n",
    "    return min(x1, x2), max(x1, x2)\n",
    "\n",
    "a, b, c = int(input()), int(input()), int(input())\n",
    "\n",
    "\n",
    "x1, x2 = solve(a, b, c)\n",
    "print(x1, x2)"
   ]
  },
  {
   "cell_type": "code",
   "execution_count": 212,
   "metadata": {},
   "outputs": [
    {
     "name": "stdout",
     "output_type": "stream",
     "text": [
      "Решка\n",
      "Решка\n",
      "Орел\n",
      "Орел\n",
      "Решка\n",
      "Решка\n",
      "Орел\n",
      "Орел\n",
      "Орел\n",
      "Орел\n"
     ]
    }
   ],
   "source": [
    "#RANDOM ОРЕЛ РЕШКА\n",
    "\n",
    "import random\n",
    "\n",
    "for _ in range(10):\n",
    "    num = random.randint(0, 1)\n",
    "    if num == 0:\n",
    "        print('Орел')\n",
    "    else:\n",
    "        print('Решка')"
   ]
  },
  {
   "cell_type": "code",
   "execution_count": 3,
   "metadata": {},
   "outputs": [
    {
     "name": "stdout",
     "output_type": "stream",
     "text": [
      "Добро пожаловать в числовую угадайку\n",
      "Ваше число меньше загаданного, попробуйте еще разок\n",
      "Ваше число меньше загаданного, попробуйте еще разок\n",
      "Ваше число меньше загаданного, попробуйте еще разок\n",
      "Ваше число больше загаданного, попробуйте еще разок\n",
      "Ваше число меньше загаданного, попробуйте еще разок\n",
      "Ваше число меньше загаданного, попробуйте еще разок\n",
      "Вы угадали, поздравляем!\n",
      "Спасибо, что играли в числовую угадайку. Еще увидимся...\n",
      "А может быть все-таки введем целое число от 1 до 100?\n"
     ]
    },
    {
     "ename": "TypeError",
     "evalue": "'<' not supported between instances of 'str' and 'int'",
     "output_type": "error",
     "traceback": [
      "\u001b[1;31m---------------------------------------------------------------------------\u001b[0m",
      "\u001b[1;31mTypeError\u001b[0m                                 Traceback (most recent call last)",
      "\u001b[1;32m<ipython-input-3-c2b90cf1847d>\u001b[0m in \u001b[0;36m<module>\u001b[1;34m\u001b[0m\n\u001b[0;32m     17\u001b[0m \u001b[1;33m\u001b[0m\u001b[0m\n\u001b[0;32m     18\u001b[0m \u001b[1;33m\u001b[0m\u001b[0m\n\u001b[1;32m---> 19\u001b[1;33m     \u001b[1;32mif\u001b[0m \u001b[0mnumber\u001b[0m \u001b[1;33m<\u001b[0m \u001b[0mx\u001b[0m\u001b[1;33m:\u001b[0m\u001b[1;33m\u001b[0m\u001b[1;33m\u001b[0m\u001b[0m\n\u001b[0m\u001b[0;32m     20\u001b[0m         \u001b[0mprint\u001b[0m\u001b[1;33m(\u001b[0m\u001b[1;34m'Ваше число меньше загаданного, попробуйте еще разок'\u001b[0m\u001b[1;33m)\u001b[0m\u001b[1;33m\u001b[0m\u001b[1;33m\u001b[0m\u001b[0m\n\u001b[0;32m     21\u001b[0m     \u001b[1;32melif\u001b[0m \u001b[0mnumber\u001b[0m \u001b[1;33m>\u001b[0m \u001b[0mx\u001b[0m\u001b[1;33m:\u001b[0m\u001b[1;33m\u001b[0m\u001b[1;33m\u001b[0m\u001b[0m\n",
      "\u001b[1;31mTypeError\u001b[0m: '<' not supported between instances of 'str' and 'int'"
     ]
    }
   ],
   "source": [
    "#  УГАДАЙКА РЕНДОМНОГО ЧИСЛА\n",
    "\n",
    "import random\n",
    "\n",
    "print('Добро пожаловать в числовую угадайку')\n",
    "\n",
    "def is_valid(num): \n",
    "    return True if num.isdigit() and 1 <= int(number) <= 100 else False\n",
    "\n",
    "x = random.randint(1, 101)\n",
    "\n",
    "while True: \n",
    "    number = input()\n",
    "    if is_valid(number):\n",
    "        number = int(number)\n",
    "    else: \n",
    "        print('А может быть все-таки введем целое число от 1 до 100?')\n",
    "\n",
    "    if number < x: \n",
    "        print('Ваше число меньше загаданного, попробуйте еще разок')\n",
    "    elif number > x: \n",
    "        print('Ваше число больше загаданного, попробуйте еще разок')\n",
    "    elif number == x: \n",
    "        print('Вы угадали, поздравляем!')\n",
    "        print('Спасибо, что играли в числовую угадайку. Еще увидимся...')\n",
    "\n",
    "\n"
   ]
  },
  {
   "cell_type": "code",
   "execution_count": 9,
   "metadata": {},
   "outputs": [
    {
     "name": "stdout",
     "output_type": "stream",
     "text": [
      "Привет Мир, я магический шар, и я знаю ответ на любой твой вопрос.\n",
      "Привет nadya\n",
      "Бесспорно\n",
      "Лучше не рассказывать\n",
      "Спроси позже\n",
      "Возвращайся если возникнут вопросы!\n"
     ]
    }
   ],
   "source": [
    "# МАГИЧЕСКИЙ  ШАР\n",
    "\n",
    "import random\n",
    "\n",
    "answers = [\"Бесспорно\", \"Мне кажется - да\", \"Пока неясно, попробуй снова\", \"Даже не думай\",\n",
    "           \"Предрешено\", \"Вероятнее всего\", \"Спроси позже\", \"Мой ответ - нет\",\n",
    "           \"Никаких сомнений\", \"Хорошие перспективы\", \"Лучше не рассказывать\", \"По моим данным - нет\",\n",
    "           \"Можешь быть уверен в этом\", \"Да\", \"Сконцентрируйся и спроси опять\", \"Весьма сомнительно\"]\n",
    "print('Привет Мир, я магический шар, и я знаю ответ на любой твой вопрос.')\n",
    "\n",
    "name = input('Как тебя зовут?' )\n",
    "\n",
    "print('Привет', name) \n",
    "\n",
    "game = 'yes'\n",
    "while game == 'yes': \n",
    "    input('Задай свой вопрос:' )\n",
    "    print(random.choice(answers))\n",
    "    game = input(\"Enter 'yes' if you want more\")\n",
    "\n",
    "print('Возвращайся если возникнут вопросы!')\n"
   ]
  },
  {
   "cell_type": "code",
   "execution_count": 17,
   "metadata": {},
   "outputs": [
    {
     "name": "stdout",
     "output_type": "stream",
     "text": [
      "Ваш проль №0: zI#gk4hYK\n",
      "Ваш проль №1: ht=x5sKZ8\n",
      "Ваш проль №2: b4W-69Uh5\n",
      "Ваш проль №3: Zsv&WSdgx\n",
      "Ваш проль №4: 9cjSsh_w%\n",
      "Ваш проль №5: *Z46W.@Re\n",
      "Ваш проль №6: xK4w+E!jR\n",
      "Ваш проль №7: 8sG_bJqUf\n",
      "Ваш проль №8: STV-Jd#tb\n"
     ]
    }
   ],
   "source": [
    "#  ГЕНЕРАТОР ПАРОЛЕЙ ==============================\n",
    "\n",
    "import random\n",
    "\n",
    "digits = '0123456789'\n",
    "lowercase_letters = 'abcdefghijklmnopqrstuvwxyz'\n",
    "uppercase_letters = 'ABCDEFGHIJKLMNOPQRSTUVWXYZ'\n",
    "punctuation = '!#$%&*+-=?@^_.'\n",
    "chars = ''\n",
    "\n",
    "pwd_quantity = int(input('Сколько паролей вам нужно сгенерировать? '))\n",
    "pwd_len = int(input('Какой длины должен быть пароль? '))\n",
    "pwd_digits = input('Включать ли в пароль цифры от 0 до 9? y/n')\n",
    "pwd_uppercase = input('Включать ли в пароль прописные буквы? y/n')\n",
    "pwd_lowercase = input('Включать ли в пароль строчные буквы? y/n')\n",
    "pwd_punctuation = input('Включать ли в пароль символы \"!#$%&*+-=?@^_\"? y/n')\n",
    "pwd_exceptions = input('Исключать ли неоднозначные символы \"il1Lo0O\"? y/n')\n",
    "\n",
    "if pwd_digits == 'y': \n",
    "    chars = chars + digits\n",
    "if pwd_uppercase == 'y': \n",
    "    chars = chars + uppercase_letters\n",
    "if pwd_lowercase == 'y': \n",
    "    chars = chars + lowercase_letters\n",
    "if pwd_punctuation == 'y': \n",
    "    chars = chars + punctuation\n",
    "if pwd_exceptions == 'y': \n",
    "    chars = chars.replace('i','')\n",
    "    chars = chars.replace('l','')\n",
    "    chars = chars.replace('1','')\n",
    "    chars = chars.replace('L','')\n",
    "    chars = chars.replace('o','')\n",
    "    chars = chars.replace('0','')\n",
    "    chars = chars.replace('O','')\n",
    "\n",
    "for i in range(pwd_quantity):\n",
    "    print('Ваш проль №', i, ': ', *random.sample(chars, pwd_len), sep='')"
   ]
  },
  {
   "cell_type": "code",
   "execution_count": 60,
   "metadata": {
    "tags": []
   },
   "outputs": [
    {
     "name": "stdout",
     "output_type": "stream",
     "text": [
      "se vium oy Zidryx!\n"
     ]
    }
   ],
   "source": [
    "#  ШИФР ЦЕЗАРЯ!!!!!!!!!!!!!!!!!!!!!!!!!!!\n",
    "\n",
    "phrase = 'oa reqi ku Veznut!' # 'To be, or not to be, that is the question!' # 'Блажен, кто верует, тепло ему на свете!'\n",
    "output = []\n",
    "\n",
    "action = int(input('Find STEP - enter 2, Code - enter \"1\", Decode - enter \"0\"'))\n",
    "language = int(input('English - enter \"1\", Russian - enter \"0\"'))\n",
    "\n",
    "\n",
    "# CODE for language english ================================\n",
    "\n",
    "if language == 1 and action == 1:\n",
    "    step = int(input('Step number?'))\n",
    "    for i in phrase:\n",
    "        if i.isupper():  #  если заглавные то...\n",
    "            if 65 <= ord(i) <= 90:\n",
    "                letter = ord(i) + step\n",
    "            if letter > 90: \n",
    "                letter -= 26\n",
    "            output.append(chr(letter))\n",
    "\n",
    "        elif 97 <= ord(i) <= 122:  #  а если строчные то...\n",
    "            letter = ord(i) + step\n",
    "            if letter > 122: \n",
    "                letter -= 26\n",
    "            output.append(chr(letter))\n",
    "        else: \n",
    "            output.append(i)\n",
    "\n",
    "\n",
    "# CODE for language русский ================================\n",
    "\n",
    "if language == 0 and action == 1:\n",
    "    step = int(input('Step number?'))\n",
    "    for i in phrase:\n",
    "        if i.isupper():  #  если заглавные то...\n",
    "            if 1040 <= ord(i) <= 1071:\n",
    "                letter = ord(i) + step\n",
    "            if letter > 1071: \n",
    "                letter -= 32\n",
    "            output.append(chr(letter))\n",
    "\n",
    "        elif 1072 <= ord(i) <= 1103:  #  а если строчные то...\n",
    "            letter = ord(i) + step\n",
    "            if letter > 1103: \n",
    "                letter -= 32\n",
    "            output.append(chr(letter))\n",
    "        else: \n",
    "            output.append(i)\n",
    "\n",
    "# DECODE for language english ================================\n",
    "\n",
    "if language == 1 and action == 0:\n",
    "    step = int(input('Step number?'))\n",
    "    for i in phrase:\n",
    "        if i.isupper():  #  если заглавные то...\n",
    "            if 65 <= ord(i) <= 90:\n",
    "                letter = ord(i) - step\n",
    "            if letter < 65: \n",
    "                letter += 26\n",
    "            output.append(chr(letter))\n",
    "\n",
    "        elif 97 <= ord(i) <= 122:  #  а если строчные то...\n",
    "            letter = ord(i) - step\n",
    "            if letter < 97: \n",
    "                letter += 26\n",
    "            output.append(chr(letter))\n",
    "        else: \n",
    "            output.append(i)\n",
    "\n",
    "# DECODE for language русский ================================\n",
    "\n",
    "if language == 0 and action == 0:\n",
    "    step = int(input('Step number?'))\n",
    "    for i in phrase:\n",
    "        if i.isupper():  #  если заглавные то...\n",
    "            if 1040 <= ord(i) <= 1071:\n",
    "                letter = ord(i) - step\n",
    "            if letter < 1040: \n",
    "                letter += 32\n",
    "            output.append(chr(letter))\n",
    "\n",
    "        elif 1072 <= ord(i) <= 1103:  #  а если строчные то...\n",
    "            letter = ord(i) - step\n",
    "            if letter < 1072: \n",
    "                letter += 32\n",
    "            output.append(chr(letter))\n",
    "        else: \n",
    "            output.append(i)\n",
    "\n",
    "print(*output, sep='')\n",
    "\n",
    "\n",
    "# FIND STEP for language english ================================\n",
    "\n",
    "if language == 1 and action == 2:\n",
    "    for j in range(1, 26): \n",
    "        output2 = []\n",
    "        for i in phrase:\n",
    "            if i.isupper():  #  если заглавные то...\n",
    "                if 65 <= ord(i) <= 90:\n",
    "                    letter = ord(i) - j\n",
    "                if letter < 65: \n",
    "                    letter += 26\n",
    "                output2.append(chr(letter))\n",
    "                                \n",
    "            elif 97 <= ord(i) <= 122:  #  а если строчные то...\n",
    "                letter = ord(i) - j\n",
    "                if letter < 97: \n",
    "                    letter += 26\n",
    "                output2.append(chr(letter))\n",
    "            else: \n",
    "                output2.append(i)\n",
    "\n",
    "        print('STEP = ', j, ': ', *output2, sep='')\n",
    "\n",
    "\n",
    "\n"
   ]
  },
  {
   "cell_type": "code",
   "execution_count": 133,
   "metadata": {},
   "outputs": [
    {
     "name": "stdout",
     "output_type": "stream",
     "text": [
      "DgEiFj! \n"
     ]
    }
   ],
   "source": [
    "def shifrator(word, step):\n",
    "    shifr = ''\n",
    "    for i in range(len(word)):\n",
    "        if word[i].isupper():  #  если заглавные то...\n",
    "            if 65 <= ord(word[i]) <= 90:\n",
    "                letter = ord(word[i]) + step\n",
    "            if letter > 90: \n",
    "                letter -= 26\n",
    "            shifr = shifr + chr(letter)\n",
    "\n",
    "        elif 97 <= ord(word[i]) <= 122:  #  а если строчные то...\n",
    "            letter = ord(word[i]) + step\n",
    "            if letter > 122: \n",
    "                letter -= 26\n",
    "            shifr = shifr + chr(letter)\n",
    "                \n",
    "        else: \n",
    "            shifr = shifr + word[i]\n",
    "        \n",
    "    return shifr + ' '\n",
    "print(shifrator('AdBfCg!', 3))"
   ]
  },
  {
   "cell_type": "code",
   "execution_count": 33,
   "metadata": {},
   "outputs": [
    {
     "name": "stdout",
     "output_type": "stream",
     "text": [
      "oa reqi ku Veznut!\n"
     ]
    }
   ],
   "source": [
    "#  ШИФРАТОР ЦЕЗАРЯ - каждое слово сдвиг на длину букв\n",
    "\n",
    "input_txt = input()\n",
    "\n",
    "\n",
    "def dlina_slova(st):\n",
    "    st = \"\".join(filter(str.isalpha, st))\n",
    "    return len(st)\n",
    "\n",
    "\n",
    "def cesar_code_2(phrase): \n",
    "    input_list = phrase.split()\n",
    "    output = []\n",
    "    \n",
    "    for word in input_list:\n",
    "        step = dlina_slova(word)\n",
    "\n",
    "        for i in range(len(word)):\n",
    "            if word[i].isupper():  #  если заглавные то...\n",
    "                if 65 <= ord(word[i]) <= 90:\n",
    "                    letter = ord(word[i]) + step\n",
    "                if letter > 90: \n",
    "                    letter -= 26\n",
    "                output.append(chr(letter))\n",
    "\n",
    "            elif 97 <= ord(word[i]) <= 122:  #  а если строчные то...\n",
    "                letter = ord(word[i]) + step\n",
    "                if letter > 122: \n",
    "                    letter -= 26\n",
    "                output.append(chr(letter))\n",
    "                \n",
    "            else: \n",
    "                output.append(word[i])\n",
    "        \n",
    "    search = list(input_txt)\n",
    "    probely = list(output)\n",
    "\n",
    "    for c in search: \n",
    "        if c == ' ': \n",
    "            probely.insert(search.index(c),' ')\n",
    "            search.pop(search.index(c))\n",
    "            search.insert(0, 'x')\n",
    "\n",
    "\n",
    "    return probely\n",
    "\n",
    "print(*cesar_code_2(input_txt), sep='')"
   ]
  },
  {
   "cell_type": "code",
   "execution_count": 43,
   "metadata": {},
   "outputs": [
    {
     "name": "stdout",
     "output_type": "stream",
     "text": [
      "63\n",
      "63\n"
     ]
    }
   ],
   "source": [
    "#   БИНАРНЫЕ ЧИСЛА В 10-е\n",
    "\n",
    "binar = '111111'\n",
    "decimal = 0\n",
    "count = len(binar) - 1\n",
    "for i in binar:\n",
    "    decimal += int(i) * 2 ** count\n",
    "    count -= 1\n",
    "\n",
    "print(decimal)\n",
    "\n",
    "### print(int('111111', base=2))\n",
    "\n",
    "\n",
    "\n"
   ]
  },
  {
   "cell_type": "code",
   "execution_count": 4,
   "metadata": {},
   "outputs": [
    {
     "name": "stdout",
     "output_type": "stream",
     "text": [
      "6898\n"
     ]
    }
   ],
   "source": [
    "#   16-e ЧИСЛА В 10-е\n",
    "\n",
    "sixteen = '1AF2'\n",
    "decimal = 0\n",
    "count = len(sixteen) - 1\n",
    "\n",
    "for i in sixteen:\n",
    "    if i.isdigit(): \n",
    "        decimal += int(i) * 16 ** count\n",
    "    elif i == 'A': \n",
    "        decimal += 10 * 16 ** count\n",
    "    elif i == 'B': \n",
    "        decimal += 11 * 16 ** count\n",
    "    elif i == 'C': \n",
    "        decimal += 12 * 16 ** count\n",
    "    elif i == 'D': \n",
    "        decimal += 13 * 16 ** count\n",
    "    elif i == 'E': \n",
    "        decimal += 14 * 16 ** count\n",
    "    elif i == 'F': \n",
    "        decimal += 15 * 16 ** count\n",
    "    count -= 1\n",
    "\n",
    "print(decimal)\n",
    "\n",
    "# print(int('1AF2', base=16)) \n",
    "# or\n",
    "# print(0x1AF2)"
   ]
  },
  {
   "cell_type": "code",
   "execution_count": 4,
   "metadata": {
    "tags": []
   },
   "outputs": [
    {
     "name": "stdout",
     "output_type": "stream",
     "text": [
      "9\n"
     ]
    }
   ],
   "source": [
    "#  НАЙТИ СИСТЕМУ ИСЧИСЛЕНИЯ n\n",
    "#8n all trees\n",
    "#32n яблони\n",
    "#22n груши\n",
    "#16n слив \n",
    "#17n вишен\n",
    "\n",
    "for i in range(1, 20): \n",
    "    if (3 * i + 2)  + (2 * i + 2) + (i + 6) + (i + 7) == 8 * i + 8: \n",
    "        print(i)\n",
    "        break\n",
    "        \n",
    "            "
   ]
  },
  {
   "cell_type": "code",
   "execution_count": 11,
   "metadata": {},
   "outputs": [
    {
     "name": "stdout",
     "output_type": "stream",
     "text": [
      "1000000001\n"
     ]
    }
   ],
   "source": [
    "#  Рабочий вариант конвертации из десятичной в любую другую...\n",
    "\n",
    "\n",
    "n = int(input('В какую систему конвертируем: '))\n",
    "num = int(input('Введите число: '))\n",
    "res_list = []\n",
    "\n",
    "while num != 0:\n",
    "    x = num % n\n",
    "    if x >= 10:\n",
    "        sym = chr(87 + x)\n",
    "        res_list.insert(0, str(sym.upper()))\n",
    "    else:\n",
    "        res_list.insert(0, str(x))\n",
    "    num = num // n\n",
    "\n",
    "print(''.join(res_list))"
   ]
  },
  {
   "cell_type": "code",
   "execution_count": 1,
   "metadata": {},
   "outputs": [
    {
     "name": "stdout",
     "output_type": "stream",
     "text": [
      "Давайте играть в угадайку слов!\n",
      "\n",
      "                   --------\n",
      "                   |      |\n",
      "                   |      \n",
      "                   |    \n",
      "                   |      \n",
      "                   |     \n",
      "                   -\n",
      "                \n",
      "__________\n",
      "\n",
      "Отличная работа, буква А присутствует в слове!\n",
      "\n",
      "                   --------\n",
      "                   |      |\n",
      "                   |      \n",
      "                   |    \n",
      "                   |      \n",
      "                   |     \n",
      "                   -\n",
      "                \n",
      "_А___А___А\n",
      "\n",
      "Буквы П нет в слове.\n",
      "\n",
      "                   --------\n",
      "                   |      |\n",
      "                   |      O\n",
      "                   |    \n",
      "                   |      \n",
      "                   |     \n",
      "                   -\n",
      "                \n",
      "_А___А___А\n",
      "\n",
      "Буквы Р нет в слове.\n",
      "\n",
      "                   --------\n",
      "                   |      |\n",
      "                   |      O\n",
      "                   |      |\n",
      "                   |      |\n",
      "                   |     \n",
      "                   -\n",
      "                \n",
      "_А___А___А\n",
      "\n",
      "Отличная работа, буква К присутствует в слове!\n",
      "\n",
      "                   --------\n",
      "                   |      |\n",
      "                   |      O\n",
      "                   |      |\n",
      "                   |      |\n",
      "                   |     \n",
      "                   -\n",
      "                \n",
      "_А___А__КА\n",
      "\n",
      "Отличная работа, буква М присутствует в слове!\n",
      "\n",
      "                   --------\n",
      "                   |      |\n",
      "                   |      O\n",
      "                   |      |\n",
      "                   |      |\n",
      "                   |     \n",
      "                   -\n",
      "                \n",
      "МА__МА__КА\n",
      "\n",
      "Буквы Х нет в слове.\n",
      "\n",
      "                   --------\n",
      "                   |      |\n",
      "                   |      O\n",
      "                   |     \\|\n",
      "                   |      |\n",
      "                   |     \n",
      "                   -\n",
      "                \n",
      "МА__МА__КА\n",
      "\n",
      "Отличная работа, буква Т присутствует в слове!\n",
      "\n",
      "                   --------\n",
      "                   |      |\n",
      "                   |      O\n",
      "                   |     \\|\n",
      "                   |      |\n",
      "                   |     \n",
      "                   -\n",
      "                \n",
      "МАТ_МАТ_КА\n",
      "\n",
      "\n",
      "                   --------\n",
      "                   |      |\n",
      "                   |      O\n",
      "                   |     \\|\n",
      "                   |      |\n",
      "                   |     \n",
      "                   -\n",
      "                \n",
      "МАТЕМАТИКА\n",
      "\n",
      "Поздравляем, вы угадали слово! Вы победили!\n"
     ]
    }
   ],
   "source": [
    "# УГАДАЙКА СЛОВ!!!!!!!!!!!!!!!!!!!!\n",
    "\n",
    "# 1. Заголовок программы: =============================\n",
    "\n",
    "import random\n",
    "\n",
    "word_list = ['математика', 'геометрия', 'информатика', 'программирование', 'питон', 'образование', 'телефон']\n",
    "\n",
    "\n",
    "#2. Функция возвращающая случайное слово: ================================\n",
    "# функция получения случайного слова из списка слов\n",
    "\n",
    "def get_word():\n",
    "    word = random.choice(word_list)\n",
    "    return word.upper()\n",
    "\n",
    "# 3. Функция возвращающая текущее состояние: ===========================================================\n",
    "# функция получения текущего состояния\n",
    "\n",
    "def display_hangman(tries):\n",
    "    stages = [  # финальное состояние: голова, торс, обе руки, обе ноги\n",
    "                '''\n",
    "                   --------\n",
    "                   |      |\n",
    "                   |      O\n",
    "                   |     \\\\|/\n",
    "                   |      |\n",
    "                   |     / \\\\\n",
    "                   -\n",
    "                ''',\n",
    "                # голова, торс, обе руки, одна нога\n",
    "                '''\n",
    "                   --------\n",
    "                   |      |\n",
    "                   |      O\n",
    "                   |     \\\\|/\n",
    "                   |      |\n",
    "                   |     / \n",
    "                   -\n",
    "                ''',\n",
    "                # голова, торс, обе руки\n",
    "                '''\n",
    "                   --------\n",
    "                   |      |\n",
    "                   |      O\n",
    "                   |     \\\\|/\n",
    "                   |      |\n",
    "                   |      \n",
    "                   -\n",
    "                ''',\n",
    "                # голова, торс и одна рука\n",
    "                '''\n",
    "                   --------\n",
    "                   |      |\n",
    "                   |      O\n",
    "                   |     \\\\|\n",
    "                   |      |\n",
    "                   |     \n",
    "                   -\n",
    "                ''',\n",
    "                # голова и торс\n",
    "                '''\n",
    "                   --------\n",
    "                   |      |\n",
    "                   |      O\n",
    "                   |      |\n",
    "                   |      |\n",
    "                   |     \n",
    "                   -\n",
    "                ''',\n",
    "                # голова\n",
    "                '''\n",
    "                   --------\n",
    "                   |      |\n",
    "                   |      O\n",
    "                   |    \n",
    "                   |      \n",
    "                   |     \n",
    "                   -\n",
    "                ''',\n",
    "                # начальное состояние\n",
    "                '''\n",
    "                   --------\n",
    "                   |      |\n",
    "                   |      \n",
    "                   |    \n",
    "                   |      \n",
    "                   |     \n",
    "                   -\n",
    "                '''\n",
    "    ]\n",
    "    return stages[tries]\n",
    "# 4. Функция play(): ===============================================================\n",
    "\n",
    "def play(word):\n",
    "    word_completion = \"_\" * len(word)\n",
    "    guessed = False\n",
    "    guessed_letters = []\n",
    "    guessed_words = []\n",
    "    tries = 6\n",
    "\n",
    "    print('Давайте играть в угадайку слов!')\n",
    "    print(display_hangman(tries))\n",
    "    print(word_completion)\n",
    "    print()\n",
    "\n",
    "    while not guessed and tries > 0:\n",
    "        guess = input('Введите букву или слово целиком: ').upper()\n",
    "        if len(guess) == 1 and guess.isalpha():\n",
    "            if guess in guessed_letters:\n",
    "                print('Вы уже называли букву', guess)\n",
    "            elif guess not in word:\n",
    "                print('Буквы', guess, 'нет в слове.')\n",
    "                tries -= 1\n",
    "                guessed_letters.append(guess)\n",
    "            else:\n",
    "                print('Отличная работа, буква', guess, 'присутствует в слове!')\n",
    "                guessed_letters.append(guess)\n",
    "                word_as_list = list(word_completion)\n",
    "                indices = [i for i in range(len(word)) if word[i] == guess]\n",
    "                for index in indices:\n",
    "                    word_as_list[index] = guess\n",
    "                word_completion = ''.join(word_as_list)\n",
    "                if '_' not in word_completion:\n",
    "                    guessed = True\n",
    "        elif len(guess) == len(word) and guess.isalpha():\n",
    "            if guess in guessed_words:\n",
    "                print('Вы уже называли слово', guess)\n",
    "            elif guess != word:\n",
    "                print('Слово', guess, 'не является верным.')\n",
    "                tries -= 1\n",
    "                guessed_words.append(guess)\n",
    "            else:\n",
    "                guessed = True\n",
    "                word_completion = word\n",
    "        else:\n",
    "            print('Введите букву или слово.')\n",
    "        print(display_hangman(tries))\n",
    "        print(word_completion)\n",
    "        print()\n",
    "    if guessed:\n",
    "        print('Поздравляем, вы угадали слово! Вы победили!')\n",
    "    else:\n",
    "        print('Вы не угадали слово. Загаданным словом было ' + word + '. Может быть в следующий раз!')\n",
    "\n",
    "# 5. Основной цикл программы:=====================================\n",
    "\n",
    "again = 'д'\n",
    "\n",
    "while again.lower() == 'д':\n",
    "    word = get_word()\n",
    "    play(word)\n",
    "    again = input('Играем еще раз? (д = да, н = нет):')"
   ]
  },
  {
   "cell_type": "code",
   "execution_count": null,
   "metadata": {},
   "outputs": [],
   "source": []
  }
 ],
 "metadata": {
  "interpreter": {
   "hash": "994e14d75182eddc00b062fa83e41e598a01c595190f4ac33c7ab2d78463f20b"
  },
  "kernelspec": {
   "display_name": "Python 3.9.5 64-bit",
   "name": "python3"
  },
  "language_info": {
   "codemirror_mode": {
    "name": "ipython",
    "version": 3
   },
   "file_extension": ".py",
   "mimetype": "text/x-python",
   "name": "python",
   "nbconvert_exporter": "python",
   "pygments_lexer": "ipython3",
   "version": "3.9.5"
  },
  "metadata": {
   "interpreter": {
    "hash": "994e14d75182eddc00b062fa83e41e598a01c595190f4ac33c7ab2d78463f20b"
   }
  },
  "orig_nbformat": 2
 },
 "nbformat": 4,
 "nbformat_minor": 2
}
