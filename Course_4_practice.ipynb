{
 "cells": [
  {
   "cell_type": "code",
   "execution_count": 10,
   "metadata": {},
   "outputs": [
    {
     "name": "stdout",
     "output_type": "stream",
     "text": [
      "3\n"
     ]
    }
   ],
   "source": [
    "'''ЗАдача йосифа'''\n",
    "\n",
    "n, k = int(input()), int(input())\n",
    "\n",
    "def joseph(n, k): \n",
    "    if n == 1: \n",
    "        x = 1\n",
    "    else:\n",
    "        x = (joseph(n-1, k) + k - 1) % n + 1;\n",
    "    return x\n",
    "    \n",
    "print(joseph(n, k))"
   ]
  },
  {
   "cell_type": "code",
   "execution_count": null,
   "metadata": {},
   "outputs": [],
   "source": [
    "''' Точки на оси координат '''\n",
    "\n",
    "n = int(input())\n",
    "spisok = []\n",
    "first, second, third, fourth = 0, 0, 0, 0\n",
    "\n",
    "for _ in range(n): \n",
    "    a = input().split()\n",
    "    spisok.append(a)\n",
    "\n",
    "for i in range(len(spisok)):\n",
    "    if int(spisok[i][0]) > 0 and int(spisok[i][1]) > 0: \n",
    "        first += 1\n",
    "    elif int(spisok[i][0]) < 0 and int(spisok[i][1]) > 0:\n",
    "        second += 1\n",
    "    elif int(spisok[i][0]) < 0 and int(spisok[i][1]) < 0:\n",
    "        third += 1\n",
    "    elif int(spisok[i][0]) > 0 and int(spisok[i][1]) < 0:\n",
    "        fourth += 1\n",
    "\n",
    "print(\"Первая четверть:\", first)\n",
    "print(\"Вторая четверть:\", second)\n",
    "print(\"Третья четверть:\", third)\n",
    "print(\"Четвертая четверть:\", fourth)"
   ]
  },
  {
   "cell_type": "code",
   "execution_count": null,
   "metadata": {},
   "outputs": [],
   "source": [
    "''' Перестановка пар цифр в списке '''\n",
    "\n",
    "spisok = [int(n) for n in input().split()] \n",
    "result = []\n",
    "\n",
    "while len(spisok) > 1: \n",
    "    result.append(spisok[1])\n",
    "    result.append(spisok[0])\n",
    "    spisok.pop(0)\n",
    "    spisok.pop(0)\n",
    "    \n",
    "if len(spisok) > 0: \n",
    "    result.append(spisok[0])\n",
    "\n",
    "print(*result)"
   ]
  },
  {
   "cell_type": "code",
   "execution_count": null,
   "metadata": {},
   "outputs": [],
   "source": [
    "''' Проверка на произведение чисел '''i\n",
    "n = int(input())\n",
    "spisok = []\n",
    "flag = False\n",
    "for _ in range(n): \n",
    "    spisok.append(int(input()))\n",
    "x = int(input())\n",
    "\n",
    "\n",
    "if n == 1: \n",
    "    print(\"НЕТ\")\n",
    "else: \n",
    "    while len(spisok) > 0: \n",
    "        y = spisok.pop()\n",
    "        for c in spisok: \n",
    "            if c * y == x: \n",
    "                flag = True\n",
    "                break\n",
    "\n",
    "    if flag: \n",
    "        print(\"ДА\")\n",
    "    else: \n",
    "        print(\"НЕТ\")"
   ]
  },
  {
   "cell_type": "code",
   "execution_count": null,
   "metadata": {},
   "outputs": [],
   "source": [
    "''' Камень, нож, бумага, ящер., Спок  '''\n",
    "\n",
    "timur, ruslan = input(), input()\n",
    "winner = timur + '-' + ruslan\n",
    "\n",
    "slovar = {'камень-камень': 'ничья', 'камень-ножницы': 'Тимур', 'камень-бумага': 'Руслан',\n",
    "        'камень-ящерица': 'Тимур', 'камень-Спок': 'Руслан', 'ножницы-ножницы': 'ничья',\n",
    "        'ножницы-бумага': 'Тимур', 'ножницы-камень': 'Руслан', 'ножницы-ящерица': 'Тимур',\n",
    "        'ножницы-Спок': 'Руслан', 'бумага-бумага': 'ничья', 'бумага-камень': 'Тимур',\n",
    "        'бумага-ножницы': 'Руслан', 'бумага-ящерица': 'Руслан', 'бумага-Спок': 'Руслан',\n",
    "        'ящерица-ящерица': 'ничья', 'ящерица-Спок': 'Тимур', 'ящерица-ножницы': 'Руслан',\n",
    "        'ящерица-бумага': 'Тимур', 'ящерица-камень': 'Руслан', 'Спок-Спок': 'ничья',\n",
    "        'Спок-ножницы': 'Тимур', 'Спок-бамага': 'Руслан', 'Спок-камень': 'Тимур',\n",
    "        'Спок-ящерица': 'Руслан'}\n",
    "    \n",
    "print(slovar[winner])"
   ]
  },
  {
   "cell_type": "code",
   "execution_count": 37,
   "metadata": {},
   "outputs": [
    {
     "name": "stdout",
     "output_type": "stream",
     "text": [
      "1 2 3\n"
     ]
    }
   ],
   "source": [
    "''' Поиск скрытого кода (anton) в строке  '''\n",
    "\n",
    "n = 6\n",
    "spisok = ['222anton456', 'a1n1t1o1n1','0000a0000n00t00000o000000n', 'gylfole', 'richard', 'ant0n']\n",
    "result = []\n",
    "\n",
    "for i in range(len(spisok)): \n",
    "     if spisok[i].find('a') < (spisok[i][spisok[i].find('a'):].find('n') + spisok[i].find('a')) < (spisok[i][spisok[i].find('n'):].find('t') + spisok[i].find('n')) < (spisok[i][spisok[i].find('t'):].find('o')  + spisok[i].find('t')) < spisok[i].rfind('n'): \n",
    "\n",
    "        result.append(i + 1)\n",
    "\n",
    "print(*result)"
   ]
  },
  {
   "cell_type": "code",
   "execution_count": null,
   "metadata": {},
   "outputs": [],
   "source": [
    "''' РОСКОМНАДЗОР  ''' \n",
    "\n",
    "word = input() + ' запретил букву'\n",
    "\n",
    "b = ['а', 'б', 'в', 'г', 'д', 'е', 'ж', 'з', 'и', 'й', 'к', 'л', 'м', 'н', 'о', 'п', 'р', 'с', 'т', 'у', 'ф', 'х', 'ц', 'ч', 'ш', 'щ', 'ъ', 'ы', 'ь', 'э', 'ю', 'я']\n",
    "\n",
    "for i in range(len(b)): \n",
    "    if b[i] in word: \n",
    "        print(word + ' ' + b[i])\n",
    "        word = word.replace(b[i], '').strip()\n",
    "        word = word.replace('  ', ' ')"
   ]
  },
  {
   "cell_type": "code",
   "execution_count": 12,
   "metadata": {},
   "outputs": [
    {
     "name": "stdout",
     "output_type": "stream",
     "text": [
      "53.3125\n"
     ]
    }
   ],
   "source": [
    "'''  ПОДСЧЕТ ЧИСЕЛ ВО ВЛОЖ. СПИСКАХ  '''\n",
    "\n",
    "list1 = [[1, 7, 8], [9, 7, 102], [102, 106, 105], [100, 99, 98, 103], [1, 2, 3]]\n",
    "total = 0\n",
    "counter = 0\n",
    "\n",
    "\n",
    "for i in range(len(list1)): \n",
    "    for j in range(len(list1[i])): \n",
    "        total += list1[i][j]\n",
    "        counter += 1\n",
    "        \n",
    "print(total/counter)"
   ]
  },
  {
   "cell_type": "code",
   "execution_count": 13,
   "metadata": {},
   "outputs": [
    {
     "name": "stdout",
     "output_type": "stream",
     "text": [
      "[['a', 'b'], ['c', 'd']]\n"
     ]
    }
   ],
   "source": [
    "'''  Разбиение на чанки (отрезки)  '''\n",
    "\n",
    "def chunked(spisok, n): \n",
    "    spisok = spisok.split()\n",
    "    el = []\n",
    "    final = []\n",
    "\n",
    "    for i in range(0, len(spisok), n): \n",
    "        el = spisok[i:(i + n)]\n",
    "        final.append(el)\n",
    "\n",
    "    return final\n",
    "\n",
    "a, b = input(), int(input())\n",
    "\n",
    "print(chunked(a, b))"
   ]
  },
  {
   "cell_type": "code",
   "execution_count": null,
   "metadata": {},
   "outputs": [],
   "source": [
    "\"\"\" Матрицы создание и чтение \"\"\"\n",
    "\n",
    "n, m = int(input()), int(input())\n",
    "matrix = [[0]*m for _ in range(n)] \n",
    "\n",
    "for i in range(n): \n",
    "    for j in range(m):\n",
    "        matrix[i][j] = input()\n",
    "        \n",
    "\n",
    "for r in range(n):\n",
    "    for c in range(m):\n",
    "        print(matrix[r][c], end=' ')\n",
    "    print()"
   ]
  },
  {
   "cell_type": "code",
   "execution_count": 5,
   "metadata": {},
   "outputs": [
    {
     "name": "stdout",
     "output_type": "stream",
     "text": [
      "[57, 67, 23, 97]\n"
     ]
    }
   ],
   "source": [
    "def magic(lst):\n",
    "    new_lst = []\n",
    "    for i in lst:\n",
    "        if i % 2:\n",
    "            new_lst.append(i)\n",
    "    return new_lst\n",
    "\n",
    "if __name__ == '__main__':\n",
    "    test = [[57, 12, 34, 67, 23, 97]]\n",
    "    for sub_test in test:\n",
    "        print('{}'.format(magic(sub_test)))"
   ]
  }
 ],
 "metadata": {
  "interpreter": {
   "hash": "994e14d75182eddc00b062fa83e41e598a01c595190f4ac33c7ab2d78463f20b"
  },
  "kernelspec": {
   "display_name": "Python 3.9.6 64-bit",
   "name": "python3"
  },
  "language_info": {
   "codemirror_mode": {
    "name": "ipython",
    "version": 3
   },
   "file_extension": ".py",
   "mimetype": "text/x-python",
   "name": "python",
   "nbconvert_exporter": "python",
   "pygments_lexer": "ipython3",
   "version": "3.9.6"
  },
  "orig_nbformat": 4
 },
 "nbformat": 4,
 "nbformat_minor": 2
}
