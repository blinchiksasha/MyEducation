{
 "cells": [
  {
   "cell_type": "code",
   "execution_count": 10,
   "metadata": {},
   "outputs": [
    {
     "name": "stdout",
     "output_type": "stream",
     "text": [
      "100\n"
     ]
    }
   ],
   "source": [
    "i = 0\n",
    "s = 0\n",
    "while i < 10:\n",
    "    i = i + 1\n",
    "    s = s + i\n",
    "    if s > 15:\n",
    "        continue\n",
    "    i = i + 1\n",
    "print(i)\n",
    " "
   ]
  },
  {
   "cell_type": "code",
   "execution_count": 3,
   "metadata": {},
   "outputs": [
    {
     "name": "stdout",
     "output_type": "stream",
     "text": [
      "\t 5\t 6\n",
      "7\t35\t42\t\n",
      "8\t40\t48\t\n",
      "9\t45\t54\t\n",
      "10\t50\t60\t\n"
     ]
    }
   ],
   "source": [
    "# ТАБЛИЦА УМНОЖЕНИЯ ПО ОТРЕЗК\n",
    "\n",
    "a, b, c, d = 7, 10, 5, 6\n",
    "\n",
    "for i in range(c,d+1):\n",
    "    print('\\t',i,end=\"\")\n",
    "print()\n",
    "    \n",
    "for i in range(a, b + 1): \n",
    "    print(i, end='')\n",
    "    print(end='\\t')\n",
    "    for j in range(c, d + 1): \n",
    "        print(j * i, end='\\t')\n",
    "    print()\n",
    "    "
   ]
  },
  {
   "cell_type": "code",
   "execution_count": 13,
   "metadata": {},
   "outputs": [
    {
     "name": "stdout",
     "output_type": "stream",
     "text": [
      "h1g1j1g1f1"
     ]
    }
   ],
   "source": [
    "# ПОДСЧЕТ СИМВОЛОВ В СТРОКЕ\n",
    "s = input() + '.'\n",
    "count = 1\n",
    "\n",
    "for i in range(len(s) - 1): \n",
    "\n",
    "    if s[i] == s[i + 1]:\n",
    "        count += 1\n",
    "    else:\n",
    "        print(s[i], count, sep='', end='')\n",
    "        count = 1"
   ]
  },
  {
   "cell_type": "code",
   "execution_count": 9,
   "metadata": {},
   "outputs": [
    {
     "name": "stdout",
     "output_type": "stream",
     "text": [
      "5\n"
     ]
    }
   ],
   "source": [
    "# СУММА ЧИСЕЛ С ОДНОЙ СТРОКИ\n",
    "\n",
    "a=[int(i) for i in input().split()]\n",
    "s=0\n",
    "for i in a:\n",
    "    s+=i\n",
    "print(s)"
   ]
  },
  {
   "cell_type": "code",
   "execution_count": 52,
   "metadata": {},
   "outputs": [
    {
     "name": "stdout",
     "output_type": "stream",
     "text": [
      "[[1, 2, 3], [1, 2, 3], [1, 2, 3]]\n",
      "1 2 3 \n",
      "1 2 3 \n",
      "1 2 3 \n",
      "\n",
      "[[1, 2, 3], [1, 2, 3], [1, 2, 3]]\n"
     ]
    }
   ],
   "source": [
    "# ЗАМЕНА ЧИСЕЛ МАТРИЦЫ!!!!!!!!!!!!!!!!!!!!!!!!!!!!!!!!!!!!\n",
    "\n",
    "a = [[int(i) for i in input().split()]]\n",
    "b = input()\n",
    "lst = []\n",
    "\n",
    "\n",
    "while b != 'end': \n",
    "    a.append([int(i) for i in b.split()])\n",
    "    b = input()\n",
    "\n",
    "    \n",
    "for i in range(len(a)):\n",
    "    for j in range(len(a[0])):\n",
    "        \n",
    "        print(a[i - 1][j] + a[(i + 1) % len(a)][j] + a[i][j - 1] + a[i][(j + 1) % len(a[i])],  end=' ')\n",
    "    print()"
   ]
  },
  {
   "cell_type": "code",
   "execution_count": 6,
   "metadata": {},
   "outputs": [
    {
     "name": "stdout",
     "output_type": "stream",
     "text": [
      "1 2 3\n",
      "8 9 4\n",
      "7 6 5\n"
     ]
    }
   ],
   "source": [
    "# МАТРИЦА ПО СПИРАЛИ !!!!!!!!!!!!!!!!!!!!\n",
    "\n",
    "\n",
    "N=int(input())\n",
    "a = [None] * N * N\n",
    "dirs = (1, N, -1, -N)\n",
    "dir = 0\n",
    "addr = 0\n",
    "for i in range(N * N):\n",
    "    a[addr] = i + 1\n",
    "    if addr == N-1 or addr == N*N-1 or addr == N*N-N or a[addr + dirs[dir]] != None:\n",
    "        dir = (dir + 1) & 3\n",
    "    addr += dirs[dir]\n",
    " \n",
    "for y in range(N):\n",
    "    print(*a[y * N : y * N + N], sep = \" \" )"
   ]
  },
  {
   "cell_type": "code",
   "execution_count": 21,
   "metadata": {},
   "outputs": [
    {
     "name": "stdout",
     "output_type": "stream",
     "text": [
      "[3, 5, 4]\n"
     ]
    }
   ],
   "source": [
    "def modify_list(l):\n",
    "    for x in l: \n",
    "        if x % 2 == 0: \n",
    "            l.append(x // 2)\n",
    "            l.pop(0)\n",
    "        else: \n",
    "            l.pop(0)\n",
    "\n",
    "lst = [10, 5, 8, 3]\n",
    "\n",
    "modify_list(lst)\n",
    "\n",
    "print(lst)   "
   ]
  },
  {
   "cell_type": "code",
   "execution_count": 3,
   "metadata": {},
   "outputs": [
    {
     "name": "stdout",
     "output_type": "stream",
     "text": [
      "[1, 2, 4]\n"
     ]
    }
   ],
   "source": [
    "#  ФУНКЦИЯ ИЗМЕНЕНИЯ СПИСКА!!\n",
    "\n",
    "def modify_list(l):\n",
    "    lmod = []\n",
    "    for x in l: \n",
    "        if x % 2 == 0: \n",
    "            lmod.append(x // 2)\n",
    "    l.clear()\n",
    "    l.extend(lmod)\n",
    "\n",
    "lst = [1, 2, 4, 8]\n",
    "modify_list(lst)\n",
    "print(lst)  "
   ]
  },
  {
   "cell_type": "code",
   "execution_count": 30,
   "metadata": {},
   "outputs": [
    {
     "name": "stdout",
     "output_type": "stream",
     "text": [
      "a 2\n",
      "aa 2\n",
      "abc 2\n",
      "ac 1\n",
      "bcd 1\n"
     ]
    }
   ],
   "source": [
    "#  ПОДСЧЕТ повторяющихся значений в строке\n",
    "\n",
    "s = 'a aa abC aa ac abc bcd a'.lower().split()\n",
    "d = dict()\n",
    "\n",
    "for i in s: \n",
    "    d[i] = [s.count(i)]\n",
    "\n",
    "for k, v in d.items(): \n",
    "    print(k, *v)\n",
    "   "
   ]
  },
  {
   "cell_type": "code",
   "execution_count": 34,
   "metadata": {},
   "outputs": [
    {
     "name": "stdout",
     "output_type": "stream",
     "text": [
      "letter: ['O', 'Q', 'a', 'G', 'L', 'a', 'C', 'Z', 'w', 'O', 'Q', 'K', 'F', 'C', 'S', 'U', 'L', 'e', 't', 'y', 'G', 'M', 'C', 'N', 'L', 'h', 'b', 'i', 'K', 'S', 'U', 'p']\n",
      "numbers: ['3', '18', '3', '1', '4', '14', '20', '14', '4', '13', '16', '13', '9', '17', '17', '8', '18', '16', '15', '15', '8', '17', '15', '8', '7', '3', '6', '8', '13', '9', '16', '18']\n",
      "result: OOOQQQQQQQQQQQQQQQQQQaaaGLLLLaaaaaaaaaaaaaaCCCCCCCCCCCCCCCCCCCCZZZZZZZZZZZZZZwwwwOOOOOOOOOOOOOQQQQQQQQQQQQQQQQKKKKKKKKKKKKKFFFFFFFFFCCCCCCCCCCCCCCCCCSSSSSSSSSSSSSSSSSUUUUUUUULLLLLLLLLLLLLLLLLLeeeeeeeeeeeeeeeetttttttttttttttyyyyyyyyyyyyyyyGGGGGGGGMMMMMMMMMMMMMMMMMCCCCCCCCCCCCCCCNNNNNNNNLLLLLLLhhhbbbbbbiiiiiiiiKKKKKKKKKKKKKSSSSSSSSSUUUUUUUUUUUUUUUUpppppppppppppppppp\n"
     ]
    }
   ],
   "source": [
    "##   БУКВЫ ПЕРЕСЧЕТ КОЛ_ВА ИЗ ФАЙЛА \n",
    "\n",
    "with open('D:\\Dropbox\\Python\\dataset_3363_2.txt') as vvod: \n",
    "    s = list(vvod.readline())\n",
    "\n",
    "lst = []\n",
    "letters = []\n",
    "numbers = ''\n",
    "\n",
    "for c in s:\n",
    "    lst.append(c)\n",
    "    if c.isalpha():\n",
    "        letters.append(c)\n",
    "        lst.remove(c)\n",
    "s.pop()\n",
    "        \n",
    "for i in range(len(s)): \n",
    "    if s[i].isalpha(): \n",
    "        s[i] = '*'\n",
    "numbers = ''.join(s).split('*')\n",
    "numbers.pop(0)\n",
    "result = ''\n",
    "\n",
    "for i in range(len(letters)): \n",
    "    result += letters[i] * int(numbers[i])\n",
    "\n",
    "print('letter:', letters)\n",
    "print('numbers:', numbers)\n",
    "print('result:', result)"
   ]
  },
  {
   "cell_type": "code",
   "execution_count": 71,
   "metadata": {},
   "outputs": [
    {
     "name": "stdout",
     "output_type": "stream",
     "text": [
      "b 10\n"
     ]
    }
   ],
   "source": [
    "#  НАИБОЛЕЕ ЧАСТОЕ СЛОВО В ФАЙЛЕ - ТЕКСТЕ\n",
    "\n",
    "with open('D:\\Dropbox\\Python\\dataset_3363_3.txt') as txt: \n",
    "    s = ''  \n",
    "    for line in txt:\n",
    "        s += line.strip().lower() \n",
    "\n",
    "lst = s.split()\n",
    "d = dict()\n",
    "\n",
    "for c in lst: \n",
    "    d[c] = lst.count(c)\n",
    "\n",
    "def maxidict():  \n",
    "     v = list(d.values())\n",
    "     k = list(d.keys())\n",
    "     return k[v.index(max(v))], max(v)\n",
    "\n",
    "print(*maxidict())"
   ]
  },
  {
   "cell_type": "code",
   "execution_count": null,
   "metadata": {},
   "outputs": [],
   "source": []
  },
  {
   "cell_type": "code",
   "execution_count": 87,
   "metadata": {},
   "outputs": [
    {
     "name": "stdout",
     "output_type": "stream",
     "text": [
      "70.33333333333333\n",
      "57.333333333333336\n",
      "68.66666666666667\n",
      "52.666666666666664\n",
      "71.66666666666667\n",
      "67.33333333333333\n",
      "71.33333333333333\n",
      "49.0\n",
      "54.0\n",
      "37.666666666666664\n",
      "62.333333333333336\n",
      "45.0\n",
      "69.66666666666667\n",
      "46.333333333333336\n",
      "43.333333333333336\n",
      "47.0\n",
      "54.666666666666664\n",
      "79.0\n",
      "51.333333333333336\n",
      "73.33333333333333\n",
      "66.33333333333333\n",
      "79.0\n",
      "66.0\n",
      "77.33333333333333\n",
      "67.66666666666667\n",
      "64.66666666666667\n",
      "64.66666666666667\n",
      "46.0\n",
      "50.666666666666664\n",
      "66.0\n",
      "52.666666666666664\n",
      "71.66666666666667\n",
      "48.666666666666664\n",
      "59.0\n",
      "71.33333333333333\n",
      "74.0\n",
      "83.33333333333333\n",
      "66.66666666666667\n",
      "38.666666666666664\n",
      "73.33333333333333\n",
      "83.66666666666667\n",
      "70.0\n",
      "58.666666666666664\n",
      "39.666666666666664\n",
      "45.0\n",
      "66.0\n",
      "71.33333333333333\n",
      "72.66666666666667\n",
      "60.0\n",
      "72.0\n",
      "47.333333333333336\n",
      "67.66666666666667\n",
      "84.0\n",
      "65.66666666666667\n",
      "78.33333333333333\n",
      "53.333333333333336\n",
      "70.33333333333333\n",
      "45.333333333333336\n",
      "71.33333333333333\n",
      "57.333333333333336\n",
      "65.33333333333333\n",
      "60.0\n",
      "63.0\n",
      "64.0\n",
      "48.0\n",
      "69.0\n",
      "82.66666666666667\n",
      "39.333333333333336\n",
      "63.333333333333336\n",
      "71.66666666666667\n",
      "64.33333333333333\n",
      "69.33333333333333\n",
      "76.0\n",
      "66.0\n",
      "59.666666666666664\n",
      "59.666666666666664\n",
      "43.333333333333336\n",
      "92.33333333333333\n",
      "56.0\n",
      "50.0\n",
      "84.0\n",
      "58.666666666666664\n",
      "82.0\n",
      "70.66666666666667\n",
      "70.66666666666667\n",
      "83.0\n",
      "48.0\n",
      "70.33333333333333\n",
      "65.0\n",
      "63.333333333333336\n",
      "77.0\n",
      "72.0\n",
      "64.66666666666667\n",
      "55.0\n",
      "64.33333333333333\n",
      "46.666666666666664\n",
      "48.666666666666664\n",
      "40.0\n",
      "78.66666666666667\n",
      "69.66666666666667\n",
      "47.666666666666664\n",
      "82.66666666666667\n",
      "60.333333333333336\n",
      "85.0\n",
      "58.333333333333336\n",
      "61.0\n",
      "36.333333333333336\n",
      "73.0\n",
      "77.66666666666667\n",
      "67.33333333333333\n",
      "72.0\n",
      "56.333333333333336\n",
      "62.333333333333336\n",
      "62.94690265486726 63.5929203539823 63.4070796460177\n"
     ]
    }
   ],
   "source": [
    "#  СРЕДНИЕ ОЦЕНКИ УЧЕНИКОВ\n",
    "\n",
    "with open('D:\\Dropbox\\Python\\dataset_3363_3.txt') as txt: \n",
    "    lst = []\n",
    "    for line in txt:\n",
    "        lst.append(line.strip().split(';'))\n",
    "#print(lst)\n",
    "\n",
    "d = dict()\n",
    "mark1 = []\n",
    "mark2 = []\n",
    "mark3 = []\n",
    "\n",
    "for i in lst: \n",
    "    d[i[0]] = (int(i[1]) + int(i[2]) + int(i[3]))/3\n",
    "    mark1.append(int(i[1]))\n",
    "    mark2.append(int(i[2]))\n",
    "    mark3.append(int(i[3]))\n",
    "\n",
    "for k, v in d.items(): \n",
    "    print(v)\n",
    "    \n",
    "print(sum(mark1)/len(mark1), sum(mark2)/len(mark2), sum(mark3)/len(mark3))"
   ]
  },
  {
   "cell_type": "code",
   "execution_count": 101,
   "metadata": {},
   "outputs": [
    {
     "name": "stdout",
     "output_type": "stream",
     "text": [
      "60\n"
     ]
    }
   ],
   "source": [
    "#  подсчет строк в файле по удаленной ссылке\n",
    "\n",
    "import requests\n",
    "with open('D:\\Dropbox\\Python\\\\tmp\\dataset_3378_2.txt') as txt: \n",
    "    for line in txt: \n",
    "        line = line.strip()\n",
    "\n",
    "\n",
    "r = requests.get(line)\n",
    "#print(r.text)\n",
    "\n",
    "lst = r.text.splitlines()\n",
    "print(len(lst))\n"
   ]
  },
  {
   "cell_type": "code",
   "execution_count": 109,
   "metadata": {
    "tags": []
   },
   "outputs": [
    {
     "name": "stdout",
     "output_type": "stream",
     "text": [
      "We are the champions, my friends,\n",
      "And we'll keep on fighting 'til the end.\n",
      "We are the champions.\n",
      "We are the champions.\n",
      "No time for losers\n",
      "'Cause we are the champions of the world.\n"
     ]
    }
   ],
   "source": [
    "#  Поиск нужного файла в переборе по ссылкам\n",
    "\n",
    "import requests\n",
    "\n",
    "r = requests.get('https://stepic.org/media/attachments/course67/3.6.3/699991.txt')  #  ссылка на первый файл\n",
    "new_file = r.text     #  читаем текст из первого файла\n",
    "\n",
    "while new_file[:2] != 'We':    #  цикл пока имя полученного файла не подходит условиям\n",
    "    link = 'https://stepic.org/media/attachments/course67/3.6.3/' + new_file    #  обновляем ссылку новым именем                                                                                  файла, казанного в предыдущем файле\n",
    "    r = requests.get(link)   #  скачиваем след файл\n",
    "    new_file = r.text       #  читаем имя след. файла\n",
    "\n",
    "print(new_file)  #  если файл нам подходит цикл прерывается и печатаем текст этого файла"
   ]
  },
  {
   "cell_type": "code",
   "execution_count": 112,
   "metadata": {},
   "outputs": [
    {
     "ename": "ValueError",
     "evalue": "dictionary update sequence element #0 has length 1; 2 is required",
     "output_type": "error",
     "traceback": [
      "\u001b[1;31m---------------------------------------------------------------------------\u001b[0m",
      "\u001b[1;31mValueError\u001b[0m                                Traceback (most recent call last)",
      "\u001b[1;32m<ipython-input-112-45ee71de9189>\u001b[0m in \u001b[0;36m<module>\u001b[1;34m\u001b[0m\n\u001b[0;32m      4\u001b[0m \u001b[1;32mfor\u001b[0m \u001b[0mi\u001b[0m \u001b[1;32min\u001b[0m \u001b[0mrange\u001b[0m\u001b[1;33m(\u001b[0m\u001b[0mn\u001b[0m\u001b[1;33m)\u001b[0m\u001b[1;33m:\u001b[0m\u001b[1;33m\u001b[0m\u001b[1;33m\u001b[0m\u001b[0m\n\u001b[0;32m      5\u001b[0m     \u001b[0mgame\u001b[0m \u001b[1;33m=\u001b[0m \u001b[0minput\u001b[0m\u001b[1;33m(\u001b[0m\u001b[1;33m)\u001b[0m\u001b[1;33m.\u001b[0m\u001b[0msplit\u001b[0m\u001b[1;33m(\u001b[0m\u001b[1;34m';'\u001b[0m\u001b[1;33m)\u001b[0m\u001b[1;33m\u001b[0m\u001b[1;33m\u001b[0m\u001b[0m\n\u001b[1;32m----> 6\u001b[1;33m     \u001b[0mteams\u001b[0m\u001b[1;33m.\u001b[0m\u001b[0mupdate\u001b[0m\u001b[1;33m(\u001b[0m\u001b[0mgame\u001b[0m\u001b[1;33m[\u001b[0m\u001b[1;36m0\u001b[0m\u001b[1;33m]\u001b[0m\u001b[1;33m)\u001b[0m\u001b[1;33m\u001b[0m\u001b[1;33m\u001b[0m\u001b[0m\n\u001b[0m\u001b[0;32m      7\u001b[0m \u001b[1;33m\u001b[0m\u001b[0m\n\u001b[0;32m      8\u001b[0m \u001b[0mprint\u001b[0m\u001b[1;33m(\u001b[0m\u001b[0mteams\u001b[0m\u001b[1;33m)\u001b[0m\u001b[1;33m\u001b[0m\u001b[1;33m\u001b[0m\u001b[0m\n",
      "\u001b[1;31mValueError\u001b[0m: dictionary update sequence element #0 has length 1; 2 is required"
     ]
    }
   ],
   "source": [
    "#  ФУЬЮОЛЬНЫЕ КОМАНДЫ СТАТИСТИКА ИГР И ТАБЛИЦА!!!!!\n",
    "\n",
    "n = int(input())\n",
    "teams = dict()\n",
    "lst_games = []\n",
    "\n",
    "for i in range(n): \n",
    "    game = input().split(';')\n",
    "    teams[game[0]] = [0, 0, 0, 0, 0]\n",
    "    teams[game[2]] = [0, 0, 0, 0, 0]\n",
    "    lst_games.append(game)\n",
    "\n",
    "for j in lst_games: \n",
    "    if int(j[1]) > int(j[3]): \n",
    "        teams[j[0]][0] += 1\n",
    "        teams[j[0]][1] += 1\n",
    "        teams[j[2]][0] += 1\n",
    "        teams[j[2]][3] += 1\n",
    "        teams[j[0]][4] += 3\n",
    "    elif int(j[1]) < int(j[3]):\n",
    "        teams[j[0]][0] += 1\n",
    "        teams[j[0]][3] += 1\n",
    "        teams[j[2]][0] += 1\n",
    "        teams[j[2]][1] += 1\n",
    "        teams[j[2]][4] += 3\n",
    "    elif int(j[1]) == int(j[3]):\n",
    "        teams[j[0]][0] += 1\n",
    "        teams[j[0]][2] += 1\n",
    "        teams[j[2]][0] += 1\n",
    "        teams[j[2]][2] += 1 \n",
    "        teams[j[0]][4] += 1\n",
    "        teams[j[2]][4] += 1\n",
    "\n",
    "for k, v in teams.items(): \n",
    "    print(f'{k}:{v[0]} {v[1]} {v[2]} {v[3]} {v[4]}')\n",
    "\n",
    "''' \n",
    "3\n",
    "Спартак;9;Зенит;10\n",
    "Локомотив;12;Зенит;3\n",
    "Спартак;8;Локомотив;15\n",
    "'''"
   ]
  },
  {
   "cell_type": "code",
   "execution_count": null,
   "metadata": {},
   "outputs": [],
   "source": [
    "#  ШИФРОВКА И ДЕШИФРОВКА ПО ЗАДАНОМУ ШАБЛОНУ (КЛЮЧУ)\n",
    "\n",
    "s1, s2, x1, x2 = list(input()), list(input()), list(input()), list(input())\n",
    "code, decode = [], []\n",
    "\n",
    "d = dict(zip(s1,s2))\n",
    "d2 = dict(zip(s2,s1))\n",
    "\n",
    "for i in x1: \n",
    "    code.append(d[i])\n",
    "\n",
    "for i in x2: \n",
    "    decode.append(d2[i])\n",
    "\n",
    "print(*code, sep='')\n",
    "print(*decode, sep='')\n",
    "\n",
    "'''\n",
    "abcd\n",
    "*d%#\n",
    "abacabadaba\n",
    "#*%*d*%\n",
    "'''"
   ]
  },
  {
   "cell_type": "code",
   "execution_count": null,
   "metadata": {},
   "outputs": [],
   "source": [
    "#  ПРОВЕРКА СТРОКИ НА ОШИБКИ В СЛОВАХ!!!\n",
    "\n",
    "lst_words = []\n",
    "lst_check = []\n",
    "set_check = set()  #  создаем множество для уникальных проверяемых слов\n",
    "\n",
    "n = int(input()) \n",
    "for i in range(n): \n",
    "    word = input().lower()  #  ввод словаря правильных слов\n",
    "    lst_words.append(word)\n",
    "\n",
    "m = int(input()) \n",
    "for i in range(m): \n",
    "    check = input().lower().split()  #  ввод строк для проверки по словам в ней\n",
    "    lst_check.append(check)\n",
    "\n",
    "for i in range(len(lst_check)): #  перевод списка строк на проверку в множество (удаляя дубли)\n",
    "    for j in lst_check[i]: \n",
    "        set_check.add(j)\n",
    "        \n",
    "for i in set_check:  #  проверяем если слова нет в словаре - значит оно с ошибкой\n",
    "    if i not in lst_words: \n",
    "        print(i)\n",
    "\n",
    "'''\n",
    "4\n",
    "champions\n",
    "we\n",
    "are\n",
    "Stepik\n",
    "3\n",
    "We are the champignons\n",
    "We Are The Champions\n",
    "Stepic\n",
    "'''"
   ]
  },
  {
   "cell_type": "code",
   "execution_count": null,
   "metadata": {},
   "outputs": [],
   "source": [
    "#  ПЕРЕДВИЖЕНИЯ ЧЕРЕПАХИ ПО СИСТЕМЕ КООРДИНАТ\n",
    "\n",
    "n = int(input())\n",
    "d = dict()  #  СЛОВАРЬ ДЛЯ ХРАНЕНИЯ ВСЕХ ПЕРЕДВИЖЕНИЙ \n",
    "x = 0  #  СТАРТОВАЯ ПОЗИЦИЯ \n",
    "y = 0  #  СТАРТОВАЯ ПОЗИЦИЯ \n",
    "\n",
    "for i in range(n): \n",
    "    m = input().split()  #  СЧИТЫВАЕМ КООРДИНАТЫ ПЕРЕДВИЖЕНИЯ ЧЕРЕПАХИ\n",
    "    if m[0] not in d.keys(): #  ПРОВЕРЯЕМ НЕ ПОВТОРЯЕТСЯ ЛИ ДВИЖЕНИЕ В ОДНОМ ИЗ НАПРАВЛЕНИЙ\n",
    "        d[m[0]] = int(m[1])  #  ЕСЛИ НЕТ - ТО ЗАПИСЫВАЕМ В СЛОВАРЬ НОВОЕ ДВИЖЕКНИЕ\n",
    "    else: \n",
    "        d[m[0]] += int(m[1]) #  ЕСЛИ УЖЕ БЫЛО ТАКОЕ - ТО ПРИБАВЛЯЕМ НОВЫЙ ШАГ К СТАРОМУ ЗНАЧЕНИЮ\n",
    "\n",
    "for i in d.keys():  #  СЧИТАЕМ ПЕРЕМЕЩЕНИЕ ТОЧКИ ПО ДОСКЕ (СЕВЕР И ВОСТОК ЭТО \"+\", ЗАПАД И ЮГ \"-\") \n",
    "    if i == 'север': \n",
    "        y += d[i]\n",
    "    elif i == 'юг':\n",
    "        y -= d[i]\n",
    "    elif i == 'восток':\n",
    "        x += d[i]\n",
    "    elif i == 'запад':\n",
    "        x -= d[i]\n",
    "        \n",
    "print(x, y)\n",
    "\n",
    "'''\n",
    "n=int(input())\n",
    "d={'север':0,'запад':0,'юг':0,'восток':0}\n",
    "for i in range(n):\n",
    "    x=input().split()\n",
    "    d[x[0]]+=int(x[1])\n",
    "print(d['восток']-d['запад'], d['север']-d['юг'])\n",
    "'''"
   ]
  },
  {
   "cell_type": "code",
   "execution_count": 2,
   "metadata": {},
   "outputs": [
    {
     "ename": "FileNotFoundError",
     "evalue": "[Errno 2] No such file or directory: 'D:\\\\Dropbox\\\\Python\\\\tmp\\\\dataset_3380_5.txt'",
     "output_type": "error",
     "traceback": [
      "\u001b[1;31m---------------------------------------------------------------------------\u001b[0m",
      "\u001b[1;31mFileNotFoundError\u001b[0m                         Traceback (most recent call last)",
      "\u001b[1;32mC:\\Users\\ALEXAN~1\\AppData\\Local\\Temp/ipykernel_21808/4063624515.py\u001b[0m in \u001b[0;36m<module>\u001b[1;34m\u001b[0m\n\u001b[0;32m      5\u001b[0m \u001b[0mdict_aver\u001b[0m \u001b[1;33m=\u001b[0m \u001b[1;33m{\u001b[0m\u001b[1;34m'1'\u001b[0m\u001b[1;33m:\u001b[0m \u001b[1;34m'-'\u001b[0m\u001b[1;33m,\u001b[0m \u001b[1;34m'2'\u001b[0m\u001b[1;33m:\u001b[0m \u001b[1;34m'-'\u001b[0m\u001b[1;33m,\u001b[0m \u001b[1;34m'3'\u001b[0m\u001b[1;33m:\u001b[0m \u001b[1;34m'-'\u001b[0m\u001b[1;33m,\u001b[0m \u001b[1;34m'4'\u001b[0m\u001b[1;33m:\u001b[0m \u001b[1;34m'-'\u001b[0m\u001b[1;33m,\u001b[0m \u001b[1;34m'5'\u001b[0m\u001b[1;33m:\u001b[0m \u001b[1;34m'-'\u001b[0m\u001b[1;33m,\u001b[0m \u001b[1;34m'6'\u001b[0m\u001b[1;33m:\u001b[0m \u001b[1;34m'-'\u001b[0m\u001b[1;33m,\u001b[0m \u001b[1;34m'7'\u001b[0m\u001b[1;33m:\u001b[0m \u001b[1;34m'-'\u001b[0m\u001b[1;33m,\u001b[0m \u001b[1;34m'8'\u001b[0m\u001b[1;33m:\u001b[0m \u001b[1;34m'-'\u001b[0m\u001b[1;33m,\u001b[0m \u001b[1;34m'9'\u001b[0m\u001b[1;33m:\u001b[0m \u001b[1;34m'-'\u001b[0m\u001b[1;33m,\u001b[0m \u001b[1;34m'10'\u001b[0m\u001b[1;33m:\u001b[0m \u001b[1;34m'-'\u001b[0m\u001b[1;33m,\u001b[0m \u001b[1;34m'11'\u001b[0m\u001b[1;33m:\u001b[0m \u001b[1;34m'-'\u001b[0m\u001b[1;33m}\u001b[0m\u001b[1;33m\u001b[0m\u001b[1;33m\u001b[0m\u001b[0m\n\u001b[0;32m      6\u001b[0m \u001b[1;33m\u001b[0m\u001b[0m\n\u001b[1;32m----> 7\u001b[1;33m \u001b[1;32mwith\u001b[0m \u001b[0mopen\u001b[0m\u001b[1;33m(\u001b[0m\u001b[1;34m'D:\\Dropbox\\Python\\\\tmp\\dataset_3380_5.txt'\u001b[0m\u001b[1;33m)\u001b[0m \u001b[1;32mas\u001b[0m \u001b[0mtxt\u001b[0m\u001b[1;33m:\u001b[0m\u001b[1;33m\u001b[0m\u001b[1;33m\u001b[0m\u001b[0m\n\u001b[0m\u001b[0;32m      8\u001b[0m     \u001b[0mlst\u001b[0m \u001b[1;33m=\u001b[0m \u001b[1;33m[\u001b[0m\u001b[1;33m]\u001b[0m\u001b[1;33m\u001b[0m\u001b[1;33m\u001b[0m\u001b[0m\n\u001b[0;32m      9\u001b[0m     \u001b[0mlst2\u001b[0m \u001b[1;33m=\u001b[0m \u001b[1;33m[\u001b[0m\u001b[1;33m]\u001b[0m\u001b[1;33m\u001b[0m\u001b[1;33m\u001b[0m\u001b[0m\n",
      "\u001b[1;31mFileNotFoundError\u001b[0m: [Errno 2] No such file or directory: 'D:\\\\Dropbox\\\\Python\\\\tmp\\\\dataset_3380_5.txt'"
     ]
    }
   ],
   "source": [
    "#  СРЕДНИЙ РОСТ УЧЕНИКОВ В КАЖДОМ ИЗ КЛАССОВ\n",
    "\n",
    "dict_classes = {'1': 0, '2': 0, '3': 0, '4': 0, '5': 0, '6': 0, '7': 0, '8': 0, '9': 0, '10': 0, '11': 0}\n",
    "\n",
    "dict_aver = {'1': '-', '2': '-', '3': '-', '4': '-', '5': '-', '6': '-', '7': '-', '8': '-', '9': '-', '10': '-', '11': '-'}\n",
    "\n",
    "with open('D:\\Dropbox\\Python\\\\tmp\\dataset_3380_5.txt') as txt: \n",
    "    lst = []\n",
    "    lst2 = []\n",
    "    for line in txt:\n",
    "        lst.append(line.strip().split())\n",
    "        \n",
    "for i in lst: \n",
    "    dict_classes[i[0]] += int(i[2])\n",
    "    lst2.append(i[0])  # ПЛЮСУЕМ ВСЕ УПОМИНАНИЯ КЛАССОВ В СПИСОК, ЧТОБ ПО НЕМУ ПОСЧИТАТЬ КОЛ-ВО УЧЕНИКОВ \n",
    "\n",
    "for k, v in dict_classes.items(): \n",
    "    if v != 0: # ПРОВЕРЯЕМ, ЕСЛИ КЛАСС НЕ УПОМИНАЛСЯ (Т.Е. ОСТАЛОСЬ ЗНАЧЕНИЕ \"0\") - ЕСЛИ ЗНАЧЕНИЕ 0, ТОГДА В НАШЕМ                  СПИСКЕ ОСТАЕТСЯ \"-\"\n",
    "        dict_aver[k] = dict_classes[k]/lst2.count(k)  # ЕСЛИ НЕТ, ТО ДЕЛИМ ОБЩИЙ РОСТ НА КОЛ-ВО УПОМИНАНИЙ ДАННОГО                                                          КЛААСА, Т.Е КОЛ-ВО ЧЕЛОВЕК\n",
    "    \n",
    "for k, v in dict_aver.items(): #  ПЕЧАТАЕМ\n",
    "    print(k, v) \n"
   ]
  },
  {
   "cell_type": "code",
   "execution_count": null,
   "metadata": {},
   "outputs": [],
   "source": []
  }
 ],
 "metadata": {
  "interpreter": {
   "hash": "994e14d75182eddc00b062fa83e41e598a01c595190f4ac33c7ab2d78463f20b"
  },
  "kernelspec": {
   "display_name": "Python 3.9.6 64-bit",
   "name": "python3"
  },
  "language_info": {
   "codemirror_mode": {
    "name": "ipython",
    "version": 3
   },
   "file_extension": ".py",
   "mimetype": "text/x-python",
   "name": "python",
   "nbconvert_exporter": "python",
   "pygments_lexer": "ipython3",
   "version": "3.9.6"
  },
  "orig_nbformat": 4
 },
 "nbformat": 4,
 "nbformat_minor": 2
}
